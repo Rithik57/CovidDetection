{
 "cells": [
  {
   "cell_type": "markdown",
   "metadata": {
    "_cell_guid": "fd0dd4ff-3643-447d-b193-08584ce0471d",
    "_uuid": "2ff1ff08-83c8-464f-a651-c719219019ed",
    "id": "cNnM2w-HCeb1",
    "papermill": {
     "duration": 0.03321,
     "end_time": "2021-05-25T18:38:10.287447",
     "exception": false,
     "start_time": "2021-05-25T18:38:10.254237",
     "status": "completed"
    },
    "tags": []
   },
   "source": [
    "# COVID-19 Cough classification notebook"
   ]
  },
  {
   "cell_type": "markdown",
   "metadata": {
    "_cell_guid": "3c797aa6-f285-43f2-b812-3b719260e024",
    "_uuid": "d2399484-1c12-4178-a57e-9496bbf5321a",
    "id": "2l3sppZMCydR",
    "papermill": {
     "duration": 0.032217,
     "end_time": "2021-05-25T18:38:10.352726",
     "exception": false,
     "start_time": "2021-05-25T18:38:10.320509",
     "status": "completed"
    },
    "tags": []
   },
   "source": [
    "## Importing Libraries"
   ]
  },
  {
   "cell_type": "code",
   "execution_count": 1,
   "metadata": {
    "_cell_guid": "f1ecbc69-fc3c-48d8-b3cb-1819c66590b3",
    "_uuid": "2e91031d-59cf-4318-886b-0f337c5e0cee",
    "collapsed": false,
    "execution": {
     "iopub.execute_input": "2021-05-25T18:38:10.422896Z",
     "iopub.status.busy": "2021-05-25T18:38:10.421808Z",
     "iopub.status.idle": "2021-05-25T18:38:19.775431Z",
     "shell.execute_reply": "2021-05-25T18:38:19.776093Z",
     "shell.execute_reply.started": "2021-05-25T18:18:04.455466Z"
    },
    "id": "Gt3fyg6dCNvX",
    "jupyter": {
     "outputs_hidden": false
    },
    "papermill": {
     "duration": 9.390441,
     "end_time": "2021-05-25T18:38:19.776326",
     "exception": false,
     "start_time": "2021-05-25T18:38:10.385885",
     "status": "completed"
    },
    "tags": []
   },
   "outputs": [],
   "source": [
    "# feature extractoring and preprocessing data\n",
    "import librosa\n",
    "import pandas as pd\n",
    "import numpy as np\n",
    "import matplotlib.pyplot as plt\n",
    "%matplotlib inline\n",
    "import os\n",
    "from PIL import Image\n",
    "import pathlib\n",
    "import csv\n",
    "\n",
    "# Preprocessing\n",
    "from sklearn.model_selection import train_test_split\n",
    "from sklearn.preprocessing import LabelEncoder, StandardScaler\n",
    "\n",
    "#Keras\n",
    "import keras\n",
    "\n",
    "import warnings\n",
    "warnings.filterwarnings('ignore')\n",
    "\n",
    "from sklearn.preprocessing import LabelEncoder, scale, StandardScaler\n",
    "from sklearn.model_selection import train_test_split\n",
    "from sklearn.metrics import classification_report, confusion_matrix, accuracy_score\n",
    "from sklearn.decomposition import PCA\n",
    "from sklearn.linear_model import LogisticRegression\n",
    "from keras.utils import to_categorical\n",
    "from keras.models import Sequential, Model, load_model\n",
    "from keras.layers.normalization import BatchNormalization\n",
    "from keras.layers import Dense, Dropout, Activation, Flatten\n",
    "from keras.layers import Convolution2D, Conv2D, MaxPooling2D, GlobalAveragePooling2D, UpSampling2D, Input\n",
    "from keras.optimizers import Adam\n",
    "from keras.utils import np_utils\n",
    "from keras.callbacks import ModelCheckpoint, EarlyStopping, ReduceLROnPlateau\n",
    "from keras import optimizers\n",
    "from keras.regularizers import l1\n",
    "from keras.utils.vis_utils import plot_model\n",
    "from datetime import datetime\n",
    "from sklearn import metrics\n",
    "import librosa, librosa.display, os, csv\n",
    "import pandas as pd\n",
    "import numpy as np\n",
    "import matplotlib\n",
    "import matplotlib.pyplot as plt\n",
    "import pylab\n",
    "plt.switch_backend('agg')\n",
    "import itertools\n",
    "import scipy as sp\n",
    "from scipy import signal\n",
    "import xgboost as xgb\n",
    "import joblib\n",
    "from glob import glob\n",
    "import urllib\n",
    "from tensorflow.keras.models import Sequential\n",
    "from tensorflow.keras.layers import Conv2D, Flatten, Dense, MaxPool2D, Dropout\n",
    "from tensorflow.keras.utils import to_categorical \n",
    "\n",
    "from sklearn.ensemble import RandomForestClassifier\n",
    "from sklearn.svm import SVC\n",
    "\n",
    "# Basic Libraries\n",
    "\n",
    "import pandas as pd\n",
    "import numpy as np\n",
    "\n",
    "pd.plotting.register_matplotlib_converters()\n",
    "import matplotlib.pyplot as plt\n",
    "%matplotlib inline\n",
    "import seaborn as sns\n",
    "\n",
    "from sklearn.model_selection import train_test_split\n",
    "from sklearn.metrics import classification_report\n",
    "from sklearn.model_selection import GridSearchCV\n",
    "\n",
    "from sklearn.preprocessing import MinMaxScaler"
   ]
  },
  {
   "cell_type": "markdown",
   "metadata": {
    "_cell_guid": "69ef1712-d999-4555-a945-92f62b51fefc",
    "_uuid": "70be0637-6e5d-47ad-a9ce-0c64a0c90e6c",
    "id": "AfBSVfRCD3PE",
    "papermill": {
     "duration": 0.032287,
     "end_time": "2021-05-25T18:38:19.843117",
     "exception": false,
     "start_time": "2021-05-25T18:38:19.810830",
     "status": "completed"
    },
    "tags": []
   },
   "source": [
    "## Extracting the Spectrogram for every Audio File"
   ]
  },
  {
   "cell_type": "code",
   "execution_count": 2,
   "metadata": {
    "_cell_guid": "11c2769a-f559-484d-beec-cfb509ad2040",
    "_uuid": "534ff3de-1807-47fe-8fdc-1ba6bd8a0247",
    "collapsed": false,
    "execution": {
     "iopub.execute_input": "2021-05-25T18:38:19.928031Z",
     "iopub.status.busy": "2021-05-25T18:38:19.927281Z",
     "iopub.status.idle": "2021-05-25T18:38:19.963544Z",
     "shell.execute_reply": "2021-05-25T18:38:19.964107Z",
     "shell.execute_reply.started": "2021-05-25T18:18:14.007902Z"
    },
    "jupyter": {
     "outputs_hidden": false
    },
    "papermill": {
     "duration": 0.088224,
     "end_time": "2021-05-25T18:38:19.964262",
     "exception": false,
     "start_time": "2021-05-25T18:38:19.876038",
     "status": "completed"
    },
    "tags": []
   },
   "outputs": [
    {
     "data": {
      "text/html": [
       "<div>\n",
       "<style scoped>\n",
       "    .dataframe tbody tr th:only-of-type {\n",
       "        vertical-align: middle;\n",
       "    }\n",
       "\n",
       "    .dataframe tbody tr th {\n",
       "        vertical-align: top;\n",
       "    }\n",
       "\n",
       "    .dataframe thead th {\n",
       "        text-align: right;\n",
       "    }\n",
       "</style>\n",
       "<table border=\"1\" class=\"dataframe\">\n",
       "  <thead>\n",
       "    <tr style=\"text-align: right;\">\n",
       "      <th></th>\n",
       "      <th>file_properties</th>\n",
       "      <th>class</th>\n",
       "    </tr>\n",
       "  </thead>\n",
       "  <tbody>\n",
       "    <tr>\n",
       "      <th>0</th>\n",
       "      <td>0v8MGxNetjg_ 10.000_ 20.000.wav</td>\n",
       "      <td>not_covid</td>\n",
       "    </tr>\n",
       "    <tr>\n",
       "      <th>1</th>\n",
       "      <td>1j1duoxdxBg_ 70.000_ 80.000.wav</td>\n",
       "      <td>not_covid</td>\n",
       "    </tr>\n",
       "    <tr>\n",
       "      <th>2</th>\n",
       "      <td>1MSYO4wgiag_ 120.000_ 130.000.wav</td>\n",
       "      <td>not_covid</td>\n",
       "    </tr>\n",
       "    <tr>\n",
       "      <th>3</th>\n",
       "      <td>1PajbAKd8Kg_ 0.000_ 10.000.wav</td>\n",
       "      <td>not_covid</td>\n",
       "    </tr>\n",
       "    <tr>\n",
       "      <th>4</th>\n",
       "      <td>cov1.wav</td>\n",
       "      <td>covid</td>\n",
       "    </tr>\n",
       "    <tr>\n",
       "      <th>...</th>\n",
       "      <td>...</td>\n",
       "      <td>...</td>\n",
       "    </tr>\n",
       "    <tr>\n",
       "      <th>165</th>\n",
       "      <td>-bZrDCS8KAg_ 70.000_ 80.000.wav</td>\n",
       "      <td>not_covid</td>\n",
       "    </tr>\n",
       "    <tr>\n",
       "      <th>166</th>\n",
       "      <td>-ej81N6Aqo4_ 0.000_ 8.000.wav</td>\n",
       "      <td>not_covid</td>\n",
       "    </tr>\n",
       "    <tr>\n",
       "      <th>167</th>\n",
       "      <td>-gvLnl1smfs_ 90.000_ 100.000.wav</td>\n",
       "      <td>not_covid</td>\n",
       "    </tr>\n",
       "    <tr>\n",
       "      <th>168</th>\n",
       "      <td>-hu5q-Nn4BM_ 70.000_ 80.000.wav</td>\n",
       "      <td>not_covid</td>\n",
       "    </tr>\n",
       "    <tr>\n",
       "      <th>169</th>\n",
       "      <td>-jLQkyDhIxw_ 10.000_ 20.000.wav</td>\n",
       "      <td>not_covid</td>\n",
       "    </tr>\n",
       "  </tbody>\n",
       "</table>\n",
       "<p>170 rows × 2 columns</p>\n",
       "</div>"
      ],
      "text/plain": [
       "                       file_properties      class\n",
       "0      0v8MGxNetjg_ 10.000_ 20.000.wav  not_covid\n",
       "1      1j1duoxdxBg_ 70.000_ 80.000.wav  not_covid\n",
       "2    1MSYO4wgiag_ 120.000_ 130.000.wav  not_covid\n",
       "3       1PajbAKd8Kg_ 0.000_ 10.000.wav  not_covid\n",
       "4                             cov1.wav      covid\n",
       "..                                 ...        ...\n",
       "165    -bZrDCS8KAg_ 70.000_ 80.000.wav  not_covid\n",
       "166      -ej81N6Aqo4_ 0.000_ 8.000.wav  not_covid\n",
       "167   -gvLnl1smfs_ 90.000_ 100.000.wav  not_covid\n",
       "168    -hu5q-Nn4BM_ 70.000_ 80.000.wav  not_covid\n",
       "169    -jLQkyDhIxw_ 10.000_ 20.000.wav  not_covid\n",
       "\n",
       "[170 rows x 2 columns]"
      ]
     },
     "execution_count": 2,
     "metadata": {},
     "output_type": "execute_result"
    }
   ],
   "source": [
    "#Loading CSV file\n",
    "train_csv = pd.read_csv(\"../input/coughclassifier-trial/cough_trial_extended.csv\")\n",
    "dataset = \"../input/coughclassifier-trial/cough_trial_extended.csv\"\n",
    "train_csv"
   ]
  },
  {
   "cell_type": "code",
   "execution_count": 3,
   "metadata": {
    "_cell_guid": "8fc5692a-33bc-480c-b41b-7a0c6b5b83ce",
    "_uuid": "abb410e1-6327-4565-ac6b-5162d3f34732",
    "collapsed": false,
    "execution": {
     "iopub.execute_input": "2021-05-25T18:38:20.038955Z",
     "iopub.status.busy": "2021-05-25T18:38:20.038028Z",
     "iopub.status.idle": "2021-05-25T18:38:20.043495Z",
     "shell.execute_reply": "2021-05-25T18:38:20.042828Z",
     "shell.execute_reply.started": "2021-05-25T18:18:14.440627Z"
    },
    "jupyter": {
     "outputs_hidden": false
    },
    "papermill": {
     "duration": 0.045157,
     "end_time": "2021-05-25T18:38:20.043629",
     "exception": false,
     "start_time": "2021-05-25T18:38:19.998472",
     "status": "completed"
    },
    "tags": []
   },
   "outputs": [
    {
     "data": {
      "text/plain": [
       "array(['not_covid', 'covid'], dtype=object)"
      ]
     },
     "execution_count": 3,
     "metadata": {},
     "output_type": "execute_result"
    }
   ],
   "source": [
    "train_csv['class'].unique()"
   ]
  },
  {
   "cell_type": "code",
   "execution_count": 4,
   "metadata": {
    "_cell_guid": "6fe30f5c-07b3-46a0-aa1a-b609e7df7ecc",
    "_uuid": "80a9ffa4-fbd2-4000-aa60-79d53b108d3e",
    "collapsed": false,
    "execution": {
     "iopub.execute_input": "2021-05-25T18:38:20.114540Z",
     "iopub.status.busy": "2021-05-25T18:38:20.113812Z",
     "iopub.status.idle": "2021-05-25T18:38:49.221116Z",
     "shell.execute_reply": "2021-05-25T18:38:49.220519Z",
     "shell.execute_reply.started": "2021-05-25T18:18:22.304723Z"
    },
    "jupyter": {
     "outputs_hidden": false
    },
    "papermill": {
     "duration": 29.143993,
     "end_time": "2021-05-25T18:38:49.221263",
     "exception": false,
     "start_time": "2021-05-25T18:38:20.077270",
     "status": "completed"
    },
    "tags": []
   },
   "outputs": [
    {
     "data": {
      "text/plain": [
       "<Figure size 432x288 with 0 Axes>"
      ]
     },
     "metadata": {},
     "output_type": "display_data"
    }
   ],
   "source": [
    "cmap = plt.get_cmap('inferno')\n",
    "tot_rows = train_csv.shape[0]\n",
    "for i in range(tot_rows):\n",
    "    source = train_csv['file_properties'][i]\n",
    "    filename = '../input/coughclassifier-trial/trial_covid/'+source\n",
    "    y,sr = librosa.load(filename, mono=True, duration=5)\n",
    "    plt.specgram(y, NFFT=2048, Fs=2, Fc=0, noverlap=128, cmap=cmap, sides='default', mode='default', scale='dB');\n",
    "    plt.axis('off');\n",
    "    plt.savefig(f'./{source[:-3].replace(\".\", \"\")}.png')\n",
    "    plt.clf()"
   ]
  },
  {
   "cell_type": "markdown",
   "metadata": {
    "_cell_guid": "eae88638-acb4-47fb-8d6d-b4942e1e662e",
    "_uuid": "ac3e23ee-87f3-43da-9351-1f178e7ed88f",
    "id": "SszVgjYnFNX9",
    "papermill": {
     "duration": 0.033734,
     "end_time": "2021-05-25T18:38:49.289879",
     "exception": false,
     "start_time": "2021-05-25T18:38:49.256145",
     "status": "completed"
    },
    "tags": []
   },
   "source": [
    "All the audio files get converted into their respective spectrograms .We can know easily extract features from them."
   ]
  },
  {
   "cell_type": "markdown",
   "metadata": {
    "_cell_guid": "3aecd890-c67a-49ed-9bd7-53589b64baae",
    "_uuid": "dae4e579-d3d0-4863-a153-d37d75d4382f",
    "id": "piwUwgP5Eef9",
    "papermill": {
     "duration": 0.034203,
     "end_time": "2021-05-25T18:38:49.358127",
     "exception": false,
     "start_time": "2021-05-25T18:38:49.323924",
     "status": "completed"
    },
    "tags": []
   },
   "source": [
    "## Extracting features from Spectrogram\n",
    "\n",
    "\n",
    "We will extract\n",
    "\n",
    "* Mel-frequency cepstral coefficients (MFCC)(20 in number)\n",
    "* Spectral Centroid,\n",
    "* Zero Crossing Rate\n",
    "* Chroma Frequencies\n",
    "* Spectral Roll-off."
   ]
  },
  {
   "cell_type": "code",
   "execution_count": 5,
   "metadata": {
    "_cell_guid": "cc331db2-50d1-4e5c-aa76-dd8b4c881671",
    "_uuid": "087c6845-4712-4746-8aed-14446794d80b",
    "collapsed": false,
    "execution": {
     "iopub.execute_input": "2021-05-25T18:38:49.432037Z",
     "iopub.status.busy": "2021-05-25T18:38:49.431255Z",
     "iopub.status.idle": "2021-05-25T18:38:49.434103Z",
     "shell.execute_reply": "2021-05-25T18:38:49.433568Z",
     "shell.execute_reply.started": "2021-05-25T18:21:40.203623Z"
    },
    "id": "__g8tX8pDeIL",
    "jupyter": {
     "outputs_hidden": false
    },
    "papermill": {
     "duration": 0.04219,
     "end_time": "2021-05-25T18:38:49.434232",
     "exception": false,
     "start_time": "2021-05-25T18:38:49.392042",
     "status": "completed"
    },
    "tags": []
   },
   "outputs": [],
   "source": [
    "header = 'filename chroma_stft rmse spectral_centroid spectral_bandwidth rolloff zero_crossing_rate'\n",
    "for i in range(1, 21):\n",
    "    header += f' mfcc{i}'\n",
    "header += ' label'\n",
    "header = header.split()"
   ]
  },
  {
   "cell_type": "markdown",
   "metadata": {
    "_cell_guid": "b15deee8-ca6f-455d-b9f5-84be9a19a83e",
    "_uuid": "6b262bb1-70cd-4b9e-a222-fb217c81e77c",
    "id": "TBlT448pEqR9",
    "papermill": {
     "duration": 0.033685,
     "end_time": "2021-05-25T18:38:49.501839",
     "exception": false,
     "start_time": "2021-05-25T18:38:49.468154",
     "status": "completed"
    },
    "tags": []
   },
   "source": [
    "## Writing data to csv file\n",
    "\n",
    "We write the data to a csv file"
   ]
  },
  {
   "cell_type": "code",
   "execution_count": 6,
   "metadata": {
    "_cell_guid": "934edb9b-a6ec-4a4d-bf5d-36f4dbfbcc4f",
    "_uuid": "208eb3a5-0900-4401-ae72-3af8a70f4757",
    "collapsed": false,
    "execution": {
     "iopub.execute_input": "2021-05-25T18:38:49.584591Z",
     "iopub.status.busy": "2021-05-25T18:38:49.583471Z",
     "iopub.status.idle": "2021-05-25T18:39:07.529072Z",
     "shell.execute_reply": "2021-05-25T18:39:07.529729Z",
     "shell.execute_reply.started": "2021-05-25T18:27:33.035512Z"
    },
    "id": "ZsSQmB0PE3Iu",
    "jupyter": {
     "outputs_hidden": false
    },
    "papermill": {
     "duration": 17.992882,
     "end_time": "2021-05-25T18:39:07.529951",
     "exception": false,
     "start_time": "2021-05-25T18:38:49.537069",
     "status": "completed"
    },
    "tags": []
   },
   "outputs": [],
   "source": [
    "file = open('data_new_extended.csv', 'w')\n",
    "with file:\n",
    "    writer = csv.writer(file)\n",
    "    writer.writerow(header)\n",
    "for i in range(tot_rows):\n",
    "        source = train_csv['file_properties'][i]\n",
    "        file_name = '../input/coughclassifier-trial/trial_covid/'+source\n",
    "        y,sr = librosa.load(file_name, mono=True, duration=5)\n",
    "        chroma_stft = librosa.feature.chroma_stft(y=y, sr=sr)\n",
    "        rmse = librosa.feature.rms(y=y)\n",
    "        spec_cent = librosa.feature.spectral_centroid(y=y, sr=sr)\n",
    "        spec_bw = librosa.feature.spectral_bandwidth(y=y, sr=sr)\n",
    "        rolloff = librosa.feature.spectral_rolloff(y=y, sr=sr)\n",
    "        zcr = librosa.feature.zero_crossing_rate(y)\n",
    "        mfcc = librosa.feature.mfcc(y=y, sr=sr)\n",
    "        to_append = f'{source[:-3].replace(\".\", \"\")} {np.mean(chroma_stft)} {np.mean(rmse)} {np.mean(spec_cent)} {np.mean(spec_bw)} {np.mean(rolloff)} {np.mean(zcr)}'    \n",
    "        for e in mfcc:\n",
    "            to_append += f' {np.mean(e)}'\n",
    "        \n",
    "        file = open('data_new_extended.csv', 'a')\n",
    "        with file:\n",
    "            writer = csv.writer(file)\n",
    "            writer.writerow(to_append.split())"
   ]
  },
  {
   "cell_type": "markdown",
   "metadata": {
    "_cell_guid": "b0d4e954-f395-452d-8029-82b855319a34",
    "_uuid": "713c1ff4-b8ee-4d18-9bb6-b0df8ed64ee5",
    "id": "fgeCZSKQEp1A",
    "papermill": {
     "duration": 0.037273,
     "end_time": "2021-05-25T18:39:07.608168",
     "exception": false,
     "start_time": "2021-05-25T18:39:07.570895",
     "status": "completed"
    },
    "tags": []
   },
   "source": [
    "# Analysing the Data in Pandas"
   ]
  },
  {
   "cell_type": "code",
   "execution_count": 7,
   "metadata": {
    "_cell_guid": "ea1e0f04-88ee-465a-b780-a0d20445f745",
    "_uuid": "2bb585ab-946c-4fe1-950d-ec51db8f349e",
    "collapsed": false,
    "execution": {
     "iopub.execute_input": "2021-05-25T18:39:07.694096Z",
     "iopub.status.busy": "2021-05-25T18:39:07.693277Z",
     "iopub.status.idle": "2021-05-25T18:39:07.746718Z",
     "shell.execute_reply": "2021-05-25T18:39:07.746015Z",
     "shell.execute_reply.started": "2021-05-25T18:27:46.060418Z"
    },
    "id": "Kr5_EdpD9dyh",
    "jupyter": {
     "outputs_hidden": false
    },
    "outputId": "81fd4a29-93fa-44f8-bf90-2f99981f761a",
    "papermill": {
     "duration": 0.103155,
     "end_time": "2021-05-25T18:39:07.746882",
     "exception": false,
     "start_time": "2021-05-25T18:39:07.643727",
     "status": "completed"
    },
    "tags": []
   },
   "outputs": [
    {
     "data": {
      "text/html": [
       "<div>\n",
       "<style scoped>\n",
       "    .dataframe tbody tr th:only-of-type {\n",
       "        vertical-align: middle;\n",
       "    }\n",
       "\n",
       "    .dataframe tbody tr th {\n",
       "        vertical-align: top;\n",
       "    }\n",
       "\n",
       "    .dataframe thead th {\n",
       "        text-align: right;\n",
       "    }\n",
       "</style>\n",
       "<table border=\"1\" class=\"dataframe\">\n",
       "  <thead>\n",
       "    <tr style=\"text-align: right;\">\n",
       "      <th></th>\n",
       "      <th>filename</th>\n",
       "      <th>chroma_stft</th>\n",
       "      <th>rmse</th>\n",
       "      <th>spectral_centroid</th>\n",
       "      <th>spectral_bandwidth</th>\n",
       "      <th>rolloff</th>\n",
       "      <th>zero_crossing_rate</th>\n",
       "      <th>mfcc1</th>\n",
       "      <th>mfcc2</th>\n",
       "      <th>mfcc3</th>\n",
       "      <th>...</th>\n",
       "      <th>mfcc12</th>\n",
       "      <th>mfcc13</th>\n",
       "      <th>mfcc14</th>\n",
       "      <th>mfcc15</th>\n",
       "      <th>mfcc16</th>\n",
       "      <th>mfcc17</th>\n",
       "      <th>mfcc18</th>\n",
       "      <th>mfcc19</th>\n",
       "      <th>mfcc20</th>\n",
       "      <th>label</th>\n",
       "    </tr>\n",
       "  </thead>\n",
       "  <tbody>\n",
       "    <tr>\n",
       "      <th>0</th>\n",
       "      <td>0v8MGxNetjg_</td>\n",
       "      <td>0.519951</td>\n",
       "      <td>0.045853</td>\n",
       "      <td>1612.895795</td>\n",
       "      <td>1411.838677</td>\n",
       "      <td>2907.580566</td>\n",
       "      <td>0.107019</td>\n",
       "      <td>-376.876007</td>\n",
       "      <td>111.017372</td>\n",
       "      <td>-31.904015</td>\n",
       "      <td>...</td>\n",
       "      <td>-7.439712</td>\n",
       "      <td>-1.034580</td>\n",
       "      <td>-0.203084</td>\n",
       "      <td>-3.513495</td>\n",
       "      <td>-1.745704</td>\n",
       "      <td>-3.011878</td>\n",
       "      <td>-2.878482</td>\n",
       "      <td>-2.106427</td>\n",
       "      <td>-4.026825</td>\n",
       "      <td>not_covid</td>\n",
       "    </tr>\n",
       "    <tr>\n",
       "      <th>1</th>\n",
       "      <td>1j1duoxdxBg_</td>\n",
       "      <td>0.535472</td>\n",
       "      <td>0.001771</td>\n",
       "      <td>2892.087076</td>\n",
       "      <td>2467.408141</td>\n",
       "      <td>5072.664388</td>\n",
       "      <td>0.148584</td>\n",
       "      <td>-519.158447</td>\n",
       "      <td>60.781284</td>\n",
       "      <td>-13.722884</td>\n",
       "      <td>...</td>\n",
       "      <td>-0.909972</td>\n",
       "      <td>7.216461</td>\n",
       "      <td>-1.719630</td>\n",
       "      <td>3.903021</td>\n",
       "      <td>3.653039</td>\n",
       "      <td>3.043882</td>\n",
       "      <td>2.439958</td>\n",
       "      <td>2.781968</td>\n",
       "      <td>2.195162</td>\n",
       "      <td>not_covid</td>\n",
       "    </tr>\n",
       "    <tr>\n",
       "      <th>2</th>\n",
       "      <td>1MSYO4wgiag_</td>\n",
       "      <td>0.496666</td>\n",
       "      <td>0.033657</td>\n",
       "      <td>3429.061935</td>\n",
       "      <td>2788.634413</td>\n",
       "      <td>6886.288452</td>\n",
       "      <td>0.225315</td>\n",
       "      <td>-282.297913</td>\n",
       "      <td>48.581680</td>\n",
       "      <td>-15.522367</td>\n",
       "      <td>...</td>\n",
       "      <td>-6.066336</td>\n",
       "      <td>-4.167640</td>\n",
       "      <td>1.017302</td>\n",
       "      <td>-0.523806</td>\n",
       "      <td>0.538693</td>\n",
       "      <td>-8.855953</td>\n",
       "      <td>-2.927977</td>\n",
       "      <td>-1.118562</td>\n",
       "      <td>-5.906227</td>\n",
       "      <td>not_covid</td>\n",
       "    </tr>\n",
       "    <tr>\n",
       "      <th>3</th>\n",
       "      <td>1PajbAKd8Kg_</td>\n",
       "      <td>0.407549</td>\n",
       "      <td>0.013452</td>\n",
       "      <td>2710.811637</td>\n",
       "      <td>2664.287550</td>\n",
       "      <td>5778.474935</td>\n",
       "      <td>0.142076</td>\n",
       "      <td>-346.857300</td>\n",
       "      <td>75.765617</td>\n",
       "      <td>-7.648193</td>\n",
       "      <td>...</td>\n",
       "      <td>5.053118</td>\n",
       "      <td>-0.291308</td>\n",
       "      <td>0.987186</td>\n",
       "      <td>-2.447526</td>\n",
       "      <td>3.692367</td>\n",
       "      <td>2.312328</td>\n",
       "      <td>-2.059656</td>\n",
       "      <td>-4.772599</td>\n",
       "      <td>-0.503851</td>\n",
       "      <td>not_covid</td>\n",
       "    </tr>\n",
       "    <tr>\n",
       "      <th>4</th>\n",
       "      <td>cov1</td>\n",
       "      <td>0.412697</td>\n",
       "      <td>0.059004</td>\n",
       "      <td>1555.648634</td>\n",
       "      <td>1418.599932</td>\n",
       "      <td>2870.737092</td>\n",
       "      <td>0.133998</td>\n",
       "      <td>-340.588013</td>\n",
       "      <td>104.156700</td>\n",
       "      <td>-32.228443</td>\n",
       "      <td>...</td>\n",
       "      <td>-8.247169</td>\n",
       "      <td>0.940006</td>\n",
       "      <td>-5.701087</td>\n",
       "      <td>-6.326630</td>\n",
       "      <td>-1.080040</td>\n",
       "      <td>-1.812609</td>\n",
       "      <td>-2.518986</td>\n",
       "      <td>-3.684266</td>\n",
       "      <td>-3.564146</td>\n",
       "      <td>covid</td>\n",
       "    </tr>\n",
       "    <tr>\n",
       "      <th>...</th>\n",
       "      <td>...</td>\n",
       "      <td>...</td>\n",
       "      <td>...</td>\n",
       "      <td>...</td>\n",
       "      <td>...</td>\n",
       "      <td>...</td>\n",
       "      <td>...</td>\n",
       "      <td>...</td>\n",
       "      <td>...</td>\n",
       "      <td>...</td>\n",
       "      <td>...</td>\n",
       "      <td>...</td>\n",
       "      <td>...</td>\n",
       "      <td>...</td>\n",
       "      <td>...</td>\n",
       "      <td>...</td>\n",
       "      <td>...</td>\n",
       "      <td>...</td>\n",
       "      <td>...</td>\n",
       "      <td>...</td>\n",
       "      <td>...</td>\n",
       "    </tr>\n",
       "    <tr>\n",
       "      <th>165</th>\n",
       "      <td>#NAME?</td>\n",
       "      <td>0.492974</td>\n",
       "      <td>0.005093</td>\n",
       "      <td>1600.647469</td>\n",
       "      <td>2300.999728</td>\n",
       "      <td>3660.644531</td>\n",
       "      <td>0.047815</td>\n",
       "      <td>-543.776916</td>\n",
       "      <td>119.100296</td>\n",
       "      <td>23.902969</td>\n",
       "      <td>...</td>\n",
       "      <td>-1.250754</td>\n",
       "      <td>-2.634280</td>\n",
       "      <td>1.647435</td>\n",
       "      <td>0.647164</td>\n",
       "      <td>1.602689</td>\n",
       "      <td>-2.469729</td>\n",
       "      <td>0.704325</td>\n",
       "      <td>-5.352920</td>\n",
       "      <td>-1.281080</td>\n",
       "      <td>not_covid</td>\n",
       "    </tr>\n",
       "    <tr>\n",
       "      <th>166</th>\n",
       "      <td>#NAME?</td>\n",
       "      <td>0.400283</td>\n",
       "      <td>0.052132</td>\n",
       "      <td>2664.129566</td>\n",
       "      <td>2563.440387</td>\n",
       "      <td>5518.182373</td>\n",
       "      <td>0.121514</td>\n",
       "      <td>-290.840607</td>\n",
       "      <td>85.514412</td>\n",
       "      <td>-10.986873</td>\n",
       "      <td>...</td>\n",
       "      <td>-4.629812</td>\n",
       "      <td>-7.424622</td>\n",
       "      <td>-4.511141</td>\n",
       "      <td>-7.482200</td>\n",
       "      <td>-4.865530</td>\n",
       "      <td>-6.353733</td>\n",
       "      <td>-5.024187</td>\n",
       "      <td>-8.422812</td>\n",
       "      <td>-0.831208</td>\n",
       "      <td>not_covid</td>\n",
       "    </tr>\n",
       "    <tr>\n",
       "      <th>167</th>\n",
       "      <td>#NAME?</td>\n",
       "      <td>0.704281</td>\n",
       "      <td>0.058739</td>\n",
       "      <td>3090.031219</td>\n",
       "      <td>2740.856272</td>\n",
       "      <td>6530.841064</td>\n",
       "      <td>0.179077</td>\n",
       "      <td>-75.595451</td>\n",
       "      <td>68.849228</td>\n",
       "      <td>-11.665833</td>\n",
       "      <td>...</td>\n",
       "      <td>0.677697</td>\n",
       "      <td>-7.535110</td>\n",
       "      <td>0.602187</td>\n",
       "      <td>-6.629556</td>\n",
       "      <td>0.659050</td>\n",
       "      <td>-4.125256</td>\n",
       "      <td>0.734950</td>\n",
       "      <td>-4.655417</td>\n",
       "      <td>-0.645009</td>\n",
       "      <td>not_covid</td>\n",
       "    </tr>\n",
       "    <tr>\n",
       "      <th>168</th>\n",
       "      <td>#NAME?</td>\n",
       "      <td>0.424896</td>\n",
       "      <td>0.044159</td>\n",
       "      <td>3173.872023</td>\n",
       "      <td>2482.951387</td>\n",
       "      <td>5768.306478</td>\n",
       "      <td>0.221743</td>\n",
       "      <td>-264.064514</td>\n",
       "      <td>58.729767</td>\n",
       "      <td>-7.446329</td>\n",
       "      <td>...</td>\n",
       "      <td>-0.625627</td>\n",
       "      <td>0.677355</td>\n",
       "      <td>-3.651989</td>\n",
       "      <td>-6.051375</td>\n",
       "      <td>1.211774</td>\n",
       "      <td>-14.923816</td>\n",
       "      <td>-11.180058</td>\n",
       "      <td>-8.861262</td>\n",
       "      <td>-5.078876</td>\n",
       "      <td>not_covid</td>\n",
       "    </tr>\n",
       "    <tr>\n",
       "      <th>169</th>\n",
       "      <td>#NAME?</td>\n",
       "      <td>0.434573</td>\n",
       "      <td>0.104041</td>\n",
       "      <td>3006.457898</td>\n",
       "      <td>2270.008544</td>\n",
       "      <td>5383.550008</td>\n",
       "      <td>0.225385</td>\n",
       "      <td>-113.609337</td>\n",
       "      <td>61.575649</td>\n",
       "      <td>-50.143192</td>\n",
       "      <td>...</td>\n",
       "      <td>1.918063</td>\n",
       "      <td>-8.441331</td>\n",
       "      <td>2.808456</td>\n",
       "      <td>-6.152548</td>\n",
       "      <td>-4.181546</td>\n",
       "      <td>-7.060247</td>\n",
       "      <td>-0.964895</td>\n",
       "      <td>0.560492</td>\n",
       "      <td>-1.245852</td>\n",
       "      <td>not_covid</td>\n",
       "    </tr>\n",
       "  </tbody>\n",
       "</table>\n",
       "<p>170 rows × 28 columns</p>\n",
       "</div>"
      ],
      "text/plain": [
       "         filename  chroma_stft      rmse  spectral_centroid  \\\n",
       "0    0v8MGxNetjg_     0.519951  0.045853        1612.895795   \n",
       "1    1j1duoxdxBg_     0.535472  0.001771        2892.087076   \n",
       "2    1MSYO4wgiag_     0.496666  0.033657        3429.061935   \n",
       "3    1PajbAKd8Kg_     0.407549  0.013452        2710.811637   \n",
       "4            cov1     0.412697  0.059004        1555.648634   \n",
       "..            ...          ...       ...                ...   \n",
       "165        #NAME?     0.492974  0.005093        1600.647469   \n",
       "166        #NAME?     0.400283  0.052132        2664.129566   \n",
       "167        #NAME?     0.704281  0.058739        3090.031219   \n",
       "168        #NAME?     0.424896  0.044159        3173.872023   \n",
       "169        #NAME?     0.434573  0.104041        3006.457898   \n",
       "\n",
       "     spectral_bandwidth      rolloff  zero_crossing_rate       mfcc1  \\\n",
       "0           1411.838677  2907.580566            0.107019 -376.876007   \n",
       "1           2467.408141  5072.664388            0.148584 -519.158447   \n",
       "2           2788.634413  6886.288452            0.225315 -282.297913   \n",
       "3           2664.287550  5778.474935            0.142076 -346.857300   \n",
       "4           1418.599932  2870.737092            0.133998 -340.588013   \n",
       "..                  ...          ...                 ...         ...   \n",
       "165         2300.999728  3660.644531            0.047815 -543.776916   \n",
       "166         2563.440387  5518.182373            0.121514 -290.840607   \n",
       "167         2740.856272  6530.841064            0.179077  -75.595451   \n",
       "168         2482.951387  5768.306478            0.221743 -264.064514   \n",
       "169         2270.008544  5383.550008            0.225385 -113.609337   \n",
       "\n",
       "          mfcc2      mfcc3  ...    mfcc12    mfcc13    mfcc14    mfcc15  \\\n",
       "0    111.017372 -31.904015  ... -7.439712 -1.034580 -0.203084 -3.513495   \n",
       "1     60.781284 -13.722884  ... -0.909972  7.216461 -1.719630  3.903021   \n",
       "2     48.581680 -15.522367  ... -6.066336 -4.167640  1.017302 -0.523806   \n",
       "3     75.765617  -7.648193  ...  5.053118 -0.291308  0.987186 -2.447526   \n",
       "4    104.156700 -32.228443  ... -8.247169  0.940006 -5.701087 -6.326630   \n",
       "..          ...        ...  ...       ...       ...       ...       ...   \n",
       "165  119.100296  23.902969  ... -1.250754 -2.634280  1.647435  0.647164   \n",
       "166   85.514412 -10.986873  ... -4.629812 -7.424622 -4.511141 -7.482200   \n",
       "167   68.849228 -11.665833  ...  0.677697 -7.535110  0.602187 -6.629556   \n",
       "168   58.729767  -7.446329  ... -0.625627  0.677355 -3.651989 -6.051375   \n",
       "169   61.575649 -50.143192  ...  1.918063 -8.441331  2.808456 -6.152548   \n",
       "\n",
       "       mfcc16     mfcc17     mfcc18    mfcc19    mfcc20      label  \n",
       "0   -1.745704  -3.011878  -2.878482 -2.106427 -4.026825  not_covid  \n",
       "1    3.653039   3.043882   2.439958  2.781968  2.195162  not_covid  \n",
       "2    0.538693  -8.855953  -2.927977 -1.118562 -5.906227  not_covid  \n",
       "3    3.692367   2.312328  -2.059656 -4.772599 -0.503851  not_covid  \n",
       "4   -1.080040  -1.812609  -2.518986 -3.684266 -3.564146      covid  \n",
       "..        ...        ...        ...       ...       ...        ...  \n",
       "165  1.602689  -2.469729   0.704325 -5.352920 -1.281080  not_covid  \n",
       "166 -4.865530  -6.353733  -5.024187 -8.422812 -0.831208  not_covid  \n",
       "167  0.659050  -4.125256   0.734950 -4.655417 -0.645009  not_covid  \n",
       "168  1.211774 -14.923816 -11.180058 -8.861262 -5.078876  not_covid  \n",
       "169 -4.181546  -7.060247  -0.964895  0.560492 -1.245852  not_covid  \n",
       "\n",
       "[170 rows x 28 columns]"
      ]
     },
     "execution_count": 7,
     "metadata": {},
     "output_type": "execute_result"
    }
   ],
   "source": [
    "data = pd.read_csv('../input/coughclassifier-trial/data_new_extended.csv')\n",
    "data"
   ]
  },
  {
   "cell_type": "code",
   "execution_count": 8,
   "metadata": {
    "_cell_guid": "38ae9136-8f43-44b9-aae5-57314f8c947a",
    "_uuid": "9b602a32-4c67-4ec4-b9e9-2cb93eed02a9",
    "collapsed": false,
    "execution": {
     "iopub.execute_input": "2021-05-25T18:39:07.829947Z",
     "iopub.status.busy": "2021-05-25T18:39:07.828960Z",
     "iopub.status.idle": "2021-05-25T18:39:07.833646Z",
     "shell.execute_reply": "2021-05-25T18:39:07.832986Z",
     "shell.execute_reply.started": "2021-05-25T18:28:00.970027Z"
    },
    "id": "iHrDHCaR9gKR",
    "jupyter": {
     "outputs_hidden": false
    },
    "outputId": "7d32943a-1ad5-4a59-c13a-beebeb36e4c2",
    "papermill": {
     "duration": 0.047649,
     "end_time": "2021-05-25T18:39:07.833806",
     "exception": false,
     "start_time": "2021-05-25T18:39:07.786157",
     "status": "completed"
    },
    "tags": []
   },
   "outputs": [
    {
     "data": {
      "text/plain": [
       "(170, 28)"
      ]
     },
     "execution_count": 8,
     "metadata": {},
     "output_type": "execute_result"
    }
   ],
   "source": [
    "data.shape"
   ]
  },
  {
   "cell_type": "code",
   "execution_count": 9,
   "metadata": {
    "_cell_guid": "5bc8dc61-e825-4d1b-8b8d-81964217ad40",
    "_uuid": "8f2a2540-9998-4d05-bd4b-c972492fd357",
    "collapsed": false,
    "execution": {
     "iopub.execute_input": "2021-05-25T18:39:07.911191Z",
     "iopub.status.busy": "2021-05-25T18:39:07.910371Z",
     "iopub.status.idle": "2021-05-25T18:39:07.916602Z",
     "shell.execute_reply": "2021-05-25T18:39:07.917268Z",
     "shell.execute_reply.started": "2021-05-25T18:28:05.195039Z"
    },
    "id": "veD5BgX49hZa",
    "jupyter": {
     "outputs_hidden": false
    },
    "papermill": {
     "duration": 0.048055,
     "end_time": "2021-05-25T18:39:07.917477",
     "exception": false,
     "start_time": "2021-05-25T18:39:07.869422",
     "status": "completed"
    },
    "tags": []
   },
   "outputs": [],
   "source": [
    "# Dropping unneccesary columns\n",
    "data = data.drop(['filename'],axis=1)"
   ]
  },
  {
   "cell_type": "markdown",
   "metadata": {
    "_cell_guid": "93246619-1c5a-48ba-86e6-398a505ec68a",
    "_uuid": "c2bf741c-22c9-45b9-b5a7-b41444b972e9",
    "id": "Nyr0aAAsGXjZ",
    "papermill": {
     "duration": 0.03962,
     "end_time": "2021-05-25T18:39:07.993611",
     "exception": false,
     "start_time": "2021-05-25T18:39:07.953991",
     "status": "completed"
    },
    "tags": []
   },
   "source": [
    "## Encoding the Labels"
   ]
  },
  {
   "cell_type": "code",
   "execution_count": 10,
   "metadata": {
    "_cell_guid": "728f9a02-2cde-4350-8084-b73baaad0e32",
    "_uuid": "cf03fdbc-3def-4079-9e33-e759dc1c8f68",
    "collapsed": false,
    "execution": {
     "iopub.execute_input": "2021-05-25T18:39:08.073987Z",
     "iopub.status.busy": "2021-05-25T18:39:08.073332Z",
     "iopub.status.idle": "2021-05-25T18:39:08.077596Z",
     "shell.execute_reply": "2021-05-25T18:39:08.077004Z",
     "shell.execute_reply.started": "2021-05-25T18:33:18.148090Z"
    },
    "id": "frI5HH4q-1HS",
    "jupyter": {
     "outputs_hidden": false
    },
    "papermill": {
     "duration": 0.045625,
     "end_time": "2021-05-25T18:39:08.077781",
     "exception": false,
     "start_time": "2021-05-25T18:39:08.032156",
     "status": "completed"
    },
    "tags": []
   },
   "outputs": [],
   "source": [
    "genre_list = data.iloc[:, -1]\n",
    "encoder = LabelEncoder()\n",
    "y = encoder.fit_transform(genre_list)"
   ]
  },
  {
   "cell_type": "markdown",
   "metadata": {
    "_cell_guid": "c0be8e9a-3f8a-4074-9f4c-c51ef0f3d8c7",
    "_uuid": "fe56d5fa-ee41-4104-9087-0c0fb23a3d02",
    "id": "_2n8a02zGfvP",
    "papermill": {
     "duration": 0.037981,
     "end_time": "2021-05-25T18:39:08.154485",
     "exception": false,
     "start_time": "2021-05-25T18:39:08.116504",
     "status": "completed"
    },
    "tags": []
   },
   "source": [
    "## Scaling the Feature columns"
   ]
  },
  {
   "cell_type": "code",
   "execution_count": 11,
   "metadata": {
    "_cell_guid": "62c85261-6361-46b8-b4d3-1dfe83d81e2a",
    "_uuid": "7e33dc73-70f3-4283-88b8-8b45cd832cb1",
    "collapsed": false,
    "execution": {
     "iopub.execute_input": "2021-05-25T18:39:08.230112Z",
     "iopub.status.busy": "2021-05-25T18:39:08.229338Z",
     "iopub.status.idle": "2021-05-25T18:39:08.236180Z",
     "shell.execute_reply": "2021-05-25T18:39:08.236892Z",
     "shell.execute_reply.started": "2021-05-25T18:33:20.080788Z"
    },
    "id": "uqcqn-nyAofk",
    "jupyter": {
     "outputs_hidden": false
    },
    "papermill": {
     "duration": 0.046193,
     "end_time": "2021-05-25T18:39:08.237087",
     "exception": false,
     "start_time": "2021-05-25T18:39:08.190894",
     "status": "completed"
    },
    "tags": []
   },
   "outputs": [],
   "source": [
    "scaler = StandardScaler()\n",
    "X = scaler.fit_transform(np.array(data.iloc[:, :-1], dtype = float))"
   ]
  },
  {
   "cell_type": "markdown",
   "metadata": {
    "_cell_guid": "eacc1fa3-181a-4220-b2b5-e677b392f9f1",
    "_uuid": "d5643352-10cf-4d0f-9362-4d9bf1e4a219",
    "id": "e3VZvbwpGo9R",
    "papermill": {
     "duration": 0.034875,
     "end_time": "2021-05-25T18:39:08.310039",
     "exception": false,
     "start_time": "2021-05-25T18:39:08.275164",
     "status": "completed"
    },
    "tags": []
   },
   "source": [
    "## Dividing data into training and Testing set"
   ]
  },
  {
   "cell_type": "code",
   "execution_count": 12,
   "metadata": {
    "_cell_guid": "d95a0908-dd5d-463f-9cce-cd19b0d2c692",
    "_uuid": "e25f19ad-fd34-4f3e-a12a-0f1384c2bbc4",
    "collapsed": false,
    "execution": {
     "iopub.execute_input": "2021-05-25T18:39:08.387962Z",
     "iopub.status.busy": "2021-05-25T18:39:08.387205Z",
     "iopub.status.idle": "2021-05-25T18:39:08.392255Z",
     "shell.execute_reply": "2021-05-25T18:39:08.392842Z",
     "shell.execute_reply.started": "2021-05-25T18:33:23.007589Z"
    },
    "id": "F1GW3VvQA7Rj",
    "jupyter": {
     "outputs_hidden": false
    },
    "papermill": {
     "duration": 0.046105,
     "end_time": "2021-05-25T18:39:08.393024",
     "exception": false,
     "start_time": "2021-05-25T18:39:08.346919",
     "status": "completed"
    },
    "tags": []
   },
   "outputs": [],
   "source": [
    "X_train, X_test, y_train, y_test = train_test_split(X, y, test_size=0.33)"
   ]
  },
  {
   "cell_type": "code",
   "execution_count": 13,
   "metadata": {
    "_cell_guid": "3ed1ffdc-7689-4c0e-903c-f23588e01ce7",
    "_uuid": "307e5bdb-33b7-4439-805c-e567d347ca77",
    "collapsed": false,
    "execution": {
     "iopub.execute_input": "2021-05-25T18:39:08.469096Z",
     "iopub.status.busy": "2021-05-25T18:39:08.468362Z",
     "iopub.status.idle": "2021-05-25T18:39:08.475938Z",
     "shell.execute_reply": "2021-05-25T18:39:08.475323Z",
     "shell.execute_reply.started": "2021-05-25T18:33:34.529241Z"
    },
    "jupyter": {
     "outputs_hidden": false
    },
    "papermill": {
     "duration": 0.04714,
     "end_time": "2021-05-25T18:39:08.476071",
     "exception": false,
     "start_time": "2021-05-25T18:39:08.428931",
     "status": "completed"
    },
    "tags": []
   },
   "outputs": [
    {
     "data": {
      "text/plain": [
       "(113, 26)"
      ]
     },
     "execution_count": 13,
     "metadata": {},
     "output_type": "execute_result"
    }
   ],
   "source": [
    "X_train.shape"
   ]
  },
  {
   "cell_type": "code",
   "execution_count": 14,
   "metadata": {
    "_cell_guid": "2523a404-a123-44fa-b675-deb55f495a9b",
    "_uuid": "d403ac15-ef01-4507-a6a0-68330d6eb247",
    "collapsed": false,
    "execution": {
     "iopub.execute_input": "2021-05-25T18:39:08.553110Z",
     "iopub.status.busy": "2021-05-25T18:39:08.552163Z",
     "iopub.status.idle": "2021-05-25T18:39:08.557480Z",
     "shell.execute_reply": "2021-05-25T18:39:08.556831Z",
     "shell.execute_reply.started": "2021-05-25T18:33:34.948538Z"
    },
    "jupyter": {
     "outputs_hidden": false
    },
    "papermill": {
     "duration": 0.046346,
     "end_time": "2021-05-25T18:39:08.557603",
     "exception": false,
     "start_time": "2021-05-25T18:39:08.511257",
     "status": "completed"
    },
    "tags": []
   },
   "outputs": [
    {
     "data": {
      "text/plain": [
       "26"
      ]
     },
     "execution_count": 14,
     "metadata": {},
     "output_type": "execute_result"
    }
   ],
   "source": [
    "X_train.shape[1]"
   ]
  },
  {
   "cell_type": "code",
   "execution_count": 15,
   "metadata": {
    "_cell_guid": "706cc2a4-0df8-4292-9a44-29e6d175d2d4",
    "_uuid": "4cefcc8a-953c-423d-8ffb-53f2f9adac13",
    "collapsed": false,
    "execution": {
     "iopub.execute_input": "2021-05-25T18:39:08.634131Z",
     "iopub.status.busy": "2021-05-25T18:39:08.633455Z",
     "iopub.status.idle": "2021-05-25T18:39:08.639804Z",
     "shell.execute_reply": "2021-05-25T18:39:08.639246Z",
     "shell.execute_reply.started": "2021-05-25T18:33:36.847063Z"
    },
    "jupyter": {
     "outputs_hidden": false
    },
    "papermill": {
     "duration": 0.046439,
     "end_time": "2021-05-25T18:39:08.639923",
     "exception": false,
     "start_time": "2021-05-25T18:39:08.593484",
     "status": "completed"
    },
    "tags": []
   },
   "outputs": [
    {
     "data": {
      "text/plain": [
       "(113,)"
      ]
     },
     "execution_count": 15,
     "metadata": {},
     "output_type": "execute_result"
    }
   ],
   "source": [
    "y_train.shape"
   ]
  },
  {
   "cell_type": "markdown",
   "metadata": {
    "_cell_guid": "b48763cf-6f84-4268-9855-82cb44efefc1",
    "_uuid": "8ab11fb0-e1e9-4809-8fea-9b8fc5dbbc2f",
    "id": "Vp2yc5FWG04e",
    "papermill": {
     "duration": 0.035387,
     "end_time": "2021-05-25T18:39:08.711030",
     "exception": false,
     "start_time": "2021-05-25T18:39:08.675643",
     "status": "completed"
    },
    "tags": []
   },
   "source": [
    "# Classification with Keras\n",
    "\n",
    "## Building our Network"
   ]
  },
  {
   "cell_type": "code",
   "execution_count": 16,
   "metadata": {
    "_cell_guid": "9400559f-615d-44c7-a1d3-6a60fda31387",
    "_uuid": "de0d4099-9d28-41a2-9446-8f98f9f6cefa",
    "collapsed": false,
    "execution": {
     "iopub.execute_input": "2021-05-25T18:39:08.795186Z",
     "iopub.status.busy": "2021-05-25T18:39:08.794467Z",
     "iopub.status.idle": "2021-05-25T18:39:09.668420Z",
     "shell.execute_reply": "2021-05-25T18:39:09.669366Z",
     "shell.execute_reply.started": "2021-05-25T18:33:41.591064Z"
    },
    "id": "Qj3sc2uFEUMt",
    "jupyter": {
     "outputs_hidden": false
    },
    "papermill": {
     "duration": 0.922736,
     "end_time": "2021-05-25T18:39:09.669606",
     "exception": false,
     "start_time": "2021-05-25T18:39:08.746870",
     "status": "completed"
    },
    "tags": []
   },
   "outputs": [
    {
     "name": "stdout",
     "output_type": "stream",
     "text": [
      "Saved model to disk\n"
     ]
    },
    {
     "data": {
      "image/png": "[encoded data removed]",
      "text/plain": [
       "<IPython.core.display.Image object>"
      ]
     },
     "execution_count": 16,
     "metadata": {},
     "output_type": "execute_result"
    }
   ],
   "source": [
    "\n",
    "from keras import models\n",
    "from keras import layers\n",
    "\n",
    "model = models.Sequential()\n",
    "model.add(layers.Dense(512, activation='relu', input_shape=(X_train.shape[1],)))\n",
    "\n",
    "model.add(layers.Dense(256, activation='relu'))\n",
    "\n",
    "model.add(layers.Dense(128, activation='relu'))\n",
    "\n",
    "model.add(layers.Dense(64, activation='relu'))\n",
    "\n",
    "model.add(layers.Dense(10, activation='relu'))\n",
    "\n",
    "model.add(layers.Dense(2, activation='softmax'))\n",
    "\n",
    "# serialize model to JSON\n",
    "model_json = model.to_json()\n",
    "with open(\"model.json\", \"w\") as json_file:\n",
    "    json_file.write(model_json)\n",
    "# serialize weights to HDF5\n",
    "model.save_weights(\"model.h5\")\n",
    "print(\"Saved model to disk\")\n",
    "\n",
    "# plot model\n",
    "plot_model(model, to_file='model_plot.png', show_shapes=True, show_layer_names=True)"
   ]
  },
  {
   "cell_type": "code",
   "execution_count": 17,
   "metadata": {
    "_cell_guid": "831658cd-a4b9-4c60-850a-26dc2053a09b",
    "_uuid": "fac1746e-ef08-41d2-976d-0de75e302a70",
    "collapsed": false,
    "execution": {
     "iopub.execute_input": "2021-05-25T18:39:09.758239Z",
     "iopub.status.busy": "2021-05-25T18:39:09.757008Z",
     "iopub.status.idle": "2021-05-25T18:39:09.764649Z",
     "shell.execute_reply": "2021-05-25T18:39:09.765441Z",
     "shell.execute_reply.started": "2021-05-25T18:33:42.280825Z"
    },
    "jupyter": {
     "outputs_hidden": false
    },
    "papermill": {
     "duration": 0.055944,
     "end_time": "2021-05-25T18:39:09.765643",
     "exception": false,
     "start_time": "2021-05-25T18:39:09.709699",
     "status": "completed"
    },
    "tags": []
   },
   "outputs": [
    {
     "name": "stdout",
     "output_type": "stream",
     "text": [
      "Model: \"sequential\"\n",
      "_________________________________________________________________\n",
      "Layer (type)                 Output Shape              Param #   \n",
      "=================================================================\n",
      "dense (Dense)                (None, 512)               13824     \n",
      "_________________________________________________________________\n",
      "dense_1 (Dense)              (None, 256)               131328    \n",
      "_________________________________________________________________\n",
      "dense_2 (Dense)              (None, 128)               32896     \n",
      "_________________________________________________________________\n",
      "dense_3 (Dense)              (None, 64)                8256      \n",
      "_________________________________________________________________\n",
      "dense_4 (Dense)              (None, 10)                650       \n",
      "_________________________________________________________________\n",
      "dense_5 (Dense)              (None, 2)                 22        \n",
      "=================================================================\n",
      "Total params: 186,976\n",
      "Trainable params: 186,976\n",
      "Non-trainable params: 0\n",
      "_________________________________________________________________\n"
     ]
    }
   ],
   "source": [
    "model.summary()"
   ]
  },
  {
   "cell_type": "code",
   "execution_count": 18,
   "metadata": {
    "_cell_guid": "24b397f8-1c27-49fb-89ff-f09832b1f15f",
    "_uuid": "9ccd1263-7ad3-49f8-bd9b-716c34012ecc",
    "collapsed": false,
    "execution": {
     "iopub.execute_input": "2021-05-25T18:39:09.857524Z",
     "iopub.status.busy": "2021-05-25T18:39:09.856765Z",
     "iopub.status.idle": "2021-05-25T18:39:09.860826Z",
     "shell.execute_reply": "2021-05-25T18:39:09.859835Z",
     "shell.execute_reply.started": "2021-05-25T18:33:42.291546Z"
    },
    "jupyter": {
     "outputs_hidden": false
    },
    "papermill": {
     "duration": 0.051663,
     "end_time": "2021-05-25T18:39:09.861036",
     "exception": false,
     "start_time": "2021-05-25T18:39:09.809373",
     "status": "completed"
    },
    "tags": []
   },
   "outputs": [],
   "source": [
    "# # loading weights into new model\n",
    "# loaded_model.load_weights(\"model.h5\")\n",
    "# print(\"Loaded model from disk\")\n",
    " \n",
    "# # evaluate loaded model on test data\n",
    "# loaded_model.compile(optimizer='adam',\n",
    "#               loss='sparse_categorical_crossentropy',\n",
    "#               metrics=['accuracy'])\n",
    "# score = loaded_model.evaluate(X, Y, verbose=0)\n",
    "# print(\"%s: %.2f%%\" % (loaded_model.metrics_names[1], score[1]*100))"
   ]
  },
  {
   "cell_type": "code",
   "execution_count": 19,
   "metadata": {
    "_cell_guid": "27fa88ea-a145-4c10-b021-51d6898d46dd",
    "_uuid": "de88a583-b3f6-4972-a763-ddb0278e5cfd",
    "collapsed": false,
    "execution": {
     "iopub.execute_input": "2021-05-25T18:39:09.959319Z",
     "iopub.status.busy": "2021-05-25T18:39:09.958536Z",
     "iopub.status.idle": "2021-05-25T18:39:11.928890Z",
     "shell.execute_reply": "2021-05-25T18:39:11.927882Z",
     "shell.execute_reply.started": "2021-05-25T18:33:42.300468Z"
    },
    "id": "bP0hVm4aElS7",
    "jupyter": {
     "outputs_hidden": false
    },
    "outputId": "aacf234d-d0a9-4de4-91be-5fd45a33b279",
    "papermill": {
     "duration": 2.025146,
     "end_time": "2021-05-25T18:39:11.929044",
     "exception": false,
     "start_time": "2021-05-25T18:39:09.903898",
     "status": "completed"
    },
    "tags": []
   },
   "outputs": [
    {
     "name": "stdout",
     "output_type": "stream",
     "text": [
      "Epoch 1/100\n",
      "1/1 [==============================] - 0s 2ms/step - loss: 0.7201 - accuracy: 0.1681\n",
      "Epoch 2/100\n",
      "1/1 [==============================] - 0s 2ms/step - loss: 0.6888 - accuracy: 0.5133\n",
      "Epoch 3/100\n",
      "1/1 [==============================] - 0s 2ms/step - loss: 0.6323 - accuracy: 0.8673\n",
      "Epoch 4/100\n",
      "1/1 [==============================] - 0s 2ms/step - loss: 0.5516 - accuracy: 0.8673\n",
      "Epoch 5/100\n",
      "1/1 [==============================] - 0s 2ms/step - loss: 0.4727 - accuracy: 0.8673\n",
      "Epoch 6/100\n",
      "1/1 [==============================] - 0s 2ms/step - loss: 0.4031 - accuracy: 0.8673\n",
      "Epoch 7/100\n",
      "1/1 [==============================] - 0s 2ms/step - loss: 0.3466 - accuracy: 0.8673\n",
      "Epoch 8/100\n",
      "1/1 [==============================] - 0s 1ms/step - loss: 0.3048 - accuracy: 0.8673\n",
      "Epoch 9/100\n",
      "1/1 [==============================] - 0s 2ms/step - loss: 0.2739 - accuracy: 0.8673\n",
      "Epoch 10/100\n",
      "1/1 [==============================] - 0s 2ms/step - loss: 0.2475 - accuracy: 0.8673\n",
      "Epoch 11/100\n",
      "1/1 [==============================] - 0s 2ms/step - loss: 0.2220 - accuracy: 0.8673\n",
      "Epoch 12/100\n",
      "1/1 [==============================] - 0s 2ms/step - loss: 0.1955 - accuracy: 0.8673\n",
      "Epoch 13/100\n",
      "1/1 [==============================] - 0s 1ms/step - loss: 0.1695 - accuracy: 0.8850\n",
      "Epoch 14/100\n",
      "1/1 [==============================] - 0s 1ms/step - loss: 0.1483 - accuracy: 0.9204\n",
      "Epoch 15/100\n",
      "1/1 [==============================] - 0s 2ms/step - loss: 0.1306 - accuracy: 0.9469\n",
      "Epoch 16/100\n",
      "1/1 [==============================] - 0s 2ms/step - loss: 0.1156 - accuracy: 0.9646\n",
      "Epoch 17/100\n",
      "1/1 [==============================] - 0s 3ms/step - loss: 0.1014 - accuracy: 0.9558\n",
      "Epoch 18/100\n",
      "1/1 [==============================] - 0s 2ms/step - loss: 0.0874 - accuracy: 0.9823\n",
      "Epoch 19/100\n",
      "1/1 [==============================] - 0s 1ms/step - loss: 0.0738 - accuracy: 0.9823\n",
      "Epoch 20/100\n",
      "1/1 [==============================] - 0s 2ms/step - loss: 0.0604 - accuracy: 0.9912\n",
      "Epoch 21/100\n",
      "1/1 [==============================] - 0s 2ms/step - loss: 0.0470 - accuracy: 0.9912\n",
      "Epoch 22/100\n",
      "1/1 [==============================] - 0s 2ms/step - loss: 0.0346 - accuracy: 1.0000\n",
      "Epoch 23/100\n",
      "1/1 [==============================] - 0s 2ms/step - loss: 0.0248 - accuracy: 1.0000\n",
      "Epoch 24/100\n",
      "1/1 [==============================] - 0s 2ms/step - loss: 0.0179 - accuracy: 1.0000\n",
      "Epoch 25/100\n",
      "1/1 [==============================] - 0s 2ms/step - loss: 0.0130 - accuracy: 1.0000\n",
      "Epoch 26/100\n",
      "1/1 [==============================] - 0s 3ms/step - loss: 0.0095 - accuracy: 1.0000\n",
      "Epoch 27/100\n",
      "1/1 [==============================] - 0s 2ms/step - loss: 0.0068 - accuracy: 1.0000\n",
      "Epoch 28/100\n",
      "1/1 [==============================] - 0s 3ms/step - loss: 0.0049 - accuracy: 1.0000\n",
      "Epoch 29/100\n",
      "1/1 [==============================] - 0s 2ms/step - loss: 0.0035 - accuracy: 1.0000\n",
      "Epoch 30/100\n",
      "1/1 [==============================] - 0s 2ms/step - loss: 0.0026 - accuracy: 1.0000\n",
      "Epoch 31/100\n",
      "1/1 [==============================] - 0s 2ms/step - loss: 0.0020 - accuracy: 1.0000\n",
      "Epoch 32/100\n",
      "1/1 [==============================] - 0s 1ms/step - loss: 0.0015 - accuracy: 1.0000\n",
      "Epoch 33/100\n",
      "1/1 [==============================] - 0s 2ms/step - loss: 0.0011 - accuracy: 1.0000\n",
      "Epoch 34/100\n",
      "1/1 [==============================] - 0s 2ms/step - loss: 7.9399e-04 - accuracy: 1.0000\n",
      "Epoch 35/100\n",
      "1/1 [==============================] - 0s 2ms/step - loss: 5.7075e-04 - accuracy: 1.0000\n",
      "Epoch 36/100\n",
      "1/1 [==============================] - 0s 2ms/step - loss: 4.1757e-04 - accuracy: 1.0000\n",
      "Epoch 37/100\n",
      "1/1 [==============================] - 0s 2ms/step - loss: 3.1241e-04 - accuracy: 1.0000\n",
      "Epoch 38/100\n",
      "1/1 [==============================] - 0s 2ms/step - loss: 2.3928e-04 - accuracy: 1.0000\n",
      "Epoch 39/100\n",
      "1/1 [==============================] - 0s 2ms/step - loss: 1.8736e-04 - accuracy: 1.0000\n",
      "Epoch 40/100\n",
      "1/1 [==============================] - 0s 2ms/step - loss: 1.4955e-04 - accuracy: 1.0000\n",
      "Epoch 41/100\n",
      "1/1 [==============================] - 0s 2ms/step - loss: 1.2149e-04 - accuracy: 1.0000\n",
      "Epoch 42/100\n",
      "1/1 [==============================] - 0s 4ms/step - loss: 1.0020e-04 - accuracy: 1.0000\n",
      "Epoch 43/100\n",
      "1/1 [==============================] - 0s 2ms/step - loss: 8.3839e-05 - accuracy: 1.0000\n",
      "Epoch 44/100\n",
      "1/1 [==============================] - 0s 2ms/step - loss: 7.1066e-05 - accuracy: 1.0000\n",
      "Epoch 45/100\n",
      "1/1 [==============================] - 0s 1ms/step - loss: 6.0960e-05 - accuracy: 1.0000\n",
      "Epoch 46/100\n",
      "1/1 [==============================] - 0s 2ms/step - loss: 5.2876e-05 - accuracy: 1.0000\n",
      "Epoch 47/100\n",
      "1/1 [==============================] - 0s 1ms/step - loss: 4.6353e-05 - accuracy: 1.0000\n",
      "Epoch 48/100\n",
      "1/1 [==============================] - 0s 2ms/step - loss: 4.1017e-05 - accuracy: 1.0000\n",
      "Epoch 49/100\n",
      "1/1 [==============================] - 0s 3ms/step - loss: 3.6628e-05 - accuracy: 1.0000\n",
      "Epoch 50/100\n",
      "1/1 [==============================] - 0s 2ms/step - loss: 3.2994e-05 - accuracy: 1.0000\n",
      "Epoch 51/100\n",
      "1/1 [==============================] - 0s 2ms/step - loss: 2.9952e-05 - accuracy: 1.0000\n",
      "Epoch 52/100\n",
      "1/1 [==============================] - 0s 2ms/step - loss: 2.7403e-05 - accuracy: 1.0000\n",
      "Epoch 53/100\n",
      "1/1 [==============================] - 0s 2ms/step - loss: 2.5239e-05 - accuracy: 1.0000\n",
      "Epoch 54/100\n",
      "1/1 [==============================] - 0s 2ms/step - loss: 2.3396e-05 - accuracy: 1.0000\n",
      "Epoch 55/100\n",
      "1/1 [==============================] - 0s 2ms/step - loss: 2.1816e-05 - accuracy: 1.0000\n",
      "Epoch 56/100\n",
      "1/1 [==============================] - 0s 2ms/step - loss: 2.0454e-05 - accuracy: 1.0000\n",
      "Epoch 57/100\n",
      "1/1 [==============================] - 0s 3ms/step - loss: 1.9272e-05 - accuracy: 1.0000\n",
      "Epoch 58/100\n",
      "1/1 [==============================] - 0s 2ms/step - loss: 1.8238e-05 - accuracy: 1.0000\n",
      "Epoch 59/100\n",
      "1/1 [==============================] - 0s 2ms/step - loss: 1.7341e-05 - accuracy: 1.0000\n",
      "Epoch 60/100\n",
      "1/1 [==============================] - 0s 2ms/step - loss: 1.6542e-05 - accuracy: 1.0000\n",
      "Epoch 61/100\n",
      "1/1 [==============================] - 0s 2ms/step - loss: 1.5837e-05 - accuracy: 1.0000\n",
      "Epoch 62/100\n",
      "1/1 [==============================] - 0s 2ms/step - loss: 1.5213e-05 - accuracy: 1.0000\n",
      "Epoch 63/100\n",
      "1/1 [==============================] - 0s 2ms/step - loss: 1.4658e-05 - accuracy: 1.0000\n",
      "Epoch 64/100\n",
      "1/1 [==============================] - 0s 2ms/step - loss: 1.4157e-05 - accuracy: 1.0000\n",
      "Epoch 65/100\n",
      "1/1 [==============================] - 0s 2ms/step - loss: 1.3718e-05 - accuracy: 1.0000\n",
      "Epoch 66/100\n",
      "1/1 [==============================] - 0s 2ms/step - loss: 1.3316e-05 - accuracy: 1.0000\n",
      "Epoch 67/100\n",
      "1/1 [==============================] - 0s 2ms/step - loss: 1.2959e-05 - accuracy: 1.0000\n",
      "Epoch 68/100\n",
      "1/1 [==============================] - 0s 2ms/step - loss: 1.2631e-05 - accuracy: 1.0000\n",
      "Epoch 69/100\n",
      "1/1 [==============================] - 0s 2ms/step - loss: 1.2338e-05 - accuracy: 1.0000\n",
      "Epoch 70/100\n",
      "1/1 [==============================] - 0s 2ms/step - loss: 1.2067e-05 - accuracy: 1.0000\n",
      "Epoch 71/100\n",
      "1/1 [==============================] - 0s 2ms/step - loss: 1.1823e-05 - accuracy: 1.0000\n",
      "Epoch 72/100\n",
      "1/1 [==============================] - 0s 2ms/step - loss: 1.1596e-05 - accuracy: 1.0000\n",
      "Epoch 73/100\n",
      "1/1 [==============================] - 0s 2ms/step - loss: 1.1392e-05 - accuracy: 1.0000\n",
      "Epoch 74/100\n",
      "1/1 [==============================] - 0s 2ms/step - loss: 1.1204e-05 - accuracy: 1.0000\n",
      "Epoch 75/100\n",
      "1/1 [==============================] - 0s 2ms/step - loss: 1.1027e-05 - accuracy: 1.0000\n",
      "Epoch 76/100\n",
      "1/1 [==============================] - 0s 2ms/step - loss: 1.0863e-05 - accuracy: 1.0000\n",
      "Epoch 77/100\n",
      "1/1 [==============================] - 0s 2ms/step - loss: 1.0711e-05 - accuracy: 1.0000\n",
      "Epoch 78/100\n",
      "1/1 [==============================] - 0s 4ms/step - loss: 1.0570e-05 - accuracy: 1.0000\n",
      "Epoch 79/100\n",
      "1/1 [==============================] - 0s 2ms/step - loss: 1.0439e-05 - accuracy: 1.0000\n",
      "Epoch 80/100\n",
      "1/1 [==============================] - 0s 3ms/step - loss: 1.0314e-05 - accuracy: 1.0000\n",
      "Epoch 81/100\n",
      "1/1 [==============================] - 0s 2ms/step - loss: 1.0199e-05 - accuracy: 1.0000\n",
      "Epoch 82/100\n",
      "1/1 [==============================] - 0s 3ms/step - loss: 1.0093e-05 - accuracy: 1.0000\n",
      "Epoch 83/100\n",
      "1/1 [==============================] - 0s 2ms/step - loss: 9.9895e-06 - accuracy: 1.0000\n",
      "Epoch 84/100\n",
      "1/1 [==============================] - 0s 2ms/step - loss: 9.8914e-06 - accuracy: 1.0000\n",
      "Epoch 85/100\n",
      "1/1 [==============================] - 0s 2ms/step - loss: 9.8039e-06 - accuracy: 1.0000\n",
      "Epoch 86/100\n",
      "1/1 [==============================] - 0s 2ms/step - loss: 9.7226e-06 - accuracy: 1.0000\n",
      "Epoch 87/100\n",
      "1/1 [==============================] - 0s 2ms/step - loss: 9.6488e-06 - accuracy: 1.0000\n",
      "Epoch 88/100\n",
      "1/1 [==============================] - 0s 2ms/step - loss: 9.5739e-06 - accuracy: 1.0000\n",
      "Epoch 89/100\n",
      "1/1 [==============================] - 0s 2ms/step - loss: 9.5054e-06 - accuracy: 1.0000\n",
      "Epoch 90/100\n",
      "1/1 [==============================] - 0s 2ms/step - loss: 9.4389e-06 - accuracy: 1.0000\n",
      "Epoch 91/100\n",
      "1/1 [==============================] - 0s 2ms/step - loss: 9.3746e-06 - accuracy: 1.0000\n",
      "Epoch 92/100\n",
      "1/1 [==============================] - 0s 2ms/step - loss: 9.3144e-06 - accuracy: 1.0000\n",
      "Epoch 93/100\n",
      "1/1 [==============================] - 0s 2ms/step - loss: 9.2543e-06 - accuracy: 1.0000\n",
      "Epoch 94/100\n",
      "1/1 [==============================] - 0s 2ms/step - loss: 9.2005e-06 - accuracy: 1.0000\n",
      "Epoch 95/100\n",
      "1/1 [==============================] - 0s 2ms/step - loss: 9.1467e-06 - accuracy: 1.0000\n",
      "Epoch 96/100\n",
      "1/1 [==============================] - 0s 2ms/step - loss: 9.0919e-06 - accuracy: 1.0000\n",
      "Epoch 97/100\n",
      "1/1 [==============================] - 0s 2ms/step - loss: 9.0392e-06 - accuracy: 1.0000\n",
      "Epoch 98/100\n",
      "1/1 [==============================] - 0s 2ms/step - loss: 8.9906e-06 - accuracy: 1.0000\n",
      "Epoch 99/100\n",
      "1/1 [==============================] - 0s 2ms/step - loss: 8.9442e-06 - accuracy: 1.0000\n",
      "Epoch 100/100\n",
      "1/1 [==============================] - 0s 2ms/step - loss: 8.8957e-06 - accuracy: 1.0000\n"
     ]
    }
   ],
   "source": [
    "model.compile(optimizer='adam',\n",
    "              loss='sparse_categorical_crossentropy',\n",
    "              metrics=['accuracy'])\n",
    "history = model.fit(X_train,\n",
    "                    y_train,\n",
    "                    epochs=100,\n",
    "                    batch_size=128)"
   ]
  },
  {
   "cell_type": "code",
   "execution_count": 20,
   "metadata": {
    "_cell_guid": "bc389573-345c-402a-96d7-315b7f0a6333",
    "_uuid": "82de23de-1904-4b3c-af01-16bf690de648",
    "collapsed": false,
    "execution": {
     "iopub.execute_input": "2021-05-25T18:39:12.220493Z",
     "iopub.status.busy": "2021-05-25T18:39:12.219859Z",
     "iopub.status.idle": "2021-05-25T18:39:12.461325Z",
     "shell.execute_reply": "2021-05-25T18:39:12.460458Z",
     "shell.execute_reply.started": "2021-05-25T18:33:43.718845Z"
    },
    "id": "0m1J0_wUFK4C",
    "jupyter": {
     "outputs_hidden": false
    },
    "outputId": "ffd3bf36-29ea-437a-987c-9aa600b9dae6",
    "papermill": {
     "duration": 0.384375,
     "end_time": "2021-05-25T18:39:12.461480",
     "exception": false,
     "start_time": "2021-05-25T18:39:12.077105",
     "status": "completed"
    },
    "tags": []
   },
   "outputs": [
    {
     "name": "stdout",
     "output_type": "stream",
     "text": [
      "2/2 [==============================] - 0s 2ms/step - loss: 1.3157e-04 - accuracy: 1.0000\n"
     ]
    }
   ],
   "source": [
    "test_loss, test_acc = model.evaluate(X_test,y_test)"
   ]
  },
  {
   "cell_type": "markdown",
   "metadata": {
    "_cell_guid": "8eff8f9d-4fd5-4c94-ba49-63c812cef0d5",
    "_uuid": "3abb243b-aeec-441e-ad14-d9c581c460a4",
    "papermill": {
     "duration": 0.140075,
     "end_time": "2021-05-25T18:39:12.744004",
     "exception": false,
     "start_time": "2021-05-25T18:39:12.603929",
     "status": "completed"
    },
    "tags": []
   },
   "source": [
    "### Test Accuracy"
   ]
  },
  {
   "cell_type": "code",
   "execution_count": 21,
   "metadata": {
    "_cell_guid": "32b0daab-872e-4634-af38-306b373a7092",
    "_uuid": "6121f2ab-6f0d-4651-afd0-fb81ccf26e96",
    "collapsed": false,
    "execution": {
     "iopub.execute_input": "2021-05-25T18:39:13.040091Z",
     "iopub.status.busy": "2021-05-25T18:39:13.039111Z",
     "iopub.status.idle": "2021-05-25T18:39:13.044170Z",
     "shell.execute_reply": "2021-05-25T18:39:13.043166Z",
     "shell.execute_reply.started": "2021-05-25T18:33:43.900685Z"
    },
    "id": "f6HrjXeUF0Ko",
    "jupyter": {
     "outputs_hidden": false
    },
    "outputId": "ea282dbd-6f9e-48c7-de2d-dc9afde8949e",
    "papermill": {
     "duration": 0.160204,
     "end_time": "2021-05-25T18:39:13.044357",
     "exception": false,
     "start_time": "2021-05-25T18:39:12.884153",
     "status": "completed"
    },
    "tags": []
   },
   "outputs": [
    {
     "name": "stdout",
     "output_type": "stream",
     "text": [
      "test_acc:  1.0\n"
     ]
    }
   ],
   "source": [
    "print('test_acc: ',test_acc)"
   ]
  },
  {
   "cell_type": "markdown",
   "metadata": {
    "_cell_guid": "517ee6ee-798f-4bbe-a93f-f45983d01b0d",
    "_uuid": "24b0efae-6e95-4b38-80e9-58e2b19f9f07",
    "id": "r3hb8s1l4rBA",
    "papermill": {
     "duration": 0.133894,
     "end_time": "2021-05-25T18:39:13.318478",
     "exception": false,
     "start_time": "2021-05-25T18:39:13.184584",
     "status": "completed"
    },
    "tags": []
   },
   "source": [
    "## Predictions on Test Data"
   ]
  },
  {
   "cell_type": "code",
   "execution_count": 22,
   "metadata": {
    "_cell_guid": "88cbd36d-674e-4fee-b5bd-d062cae3f7ce",
    "_uuid": "69a5c17c-d042-4e59-b5df-dd8578e4b40d",
    "collapsed": false,
    "execution": {
     "iopub.execute_input": "2021-05-25T18:39:13.588926Z",
     "iopub.status.busy": "2021-05-25T18:39:13.588210Z",
     "iopub.status.idle": "2021-05-25T18:39:13.747714Z",
     "shell.execute_reply": "2021-05-25T18:39:13.747097Z",
     "shell.execute_reply.started": "2021-05-25T18:33:43.908278Z"
    },
    "id": "gudBAhIXJIi2",
    "jupyter": {
     "outputs_hidden": false
    },
    "papermill": {
     "duration": 0.297308,
     "end_time": "2021-05-25T18:39:13.747841",
     "exception": false,
     "start_time": "2021-05-25T18:39:13.450533",
     "status": "completed"
    },
    "tags": []
   },
   "outputs": [
    {
     "name": "stdout",
     "output_type": "stream",
     "text": [
      "(2,)\n",
      "1.0\n",
      "[[4.0875192e-11 1.0000000e+00]\n",
      " [8.1007434e-10 1.0000000e+00]\n",
      " [6.6492213e-03 9.9335080e-01]\n",
      " [9.9998546e-01 1.4557896e-05]]\n",
      "[1 1 1 0]\n"
     ]
    }
   ],
   "source": [
    "predictions = model.predict(X_test)\n",
    "print(predictions[0].shape)\n",
    "print(np.sum(predictions[0]))\n",
    "print(predictions[:4])\n",
    "print(y_test[:4])"
   ]
  },
  {
   "cell_type": "markdown",
   "metadata": {
    "_cell_guid": "754e71e4-2c40-41e0-8920-09ffbfa011b7",
    "_uuid": "5454e56b-cf88-4e7b-b6e0-667b03ae68d2",
    "papermill": {
     "duration": 0.132311,
     "end_time": "2021-05-25T18:39:14.014083",
     "exception": false,
     "start_time": "2021-05-25T18:39:13.881772",
     "status": "completed"
    },
    "tags": []
   },
   "source": [
    "## Saving the Spectograms as a single output file"
   ]
  },
  {
   "cell_type": "code",
   "execution_count": 23,
   "metadata": {
    "_cell_guid": "1f199ed5-023a-42dd-acbd-f3a99c1a4f87",
    "_uuid": "b65fd77f-7cb0-493e-9d15-daf5b730c08b",
    "collapsed": false,
    "execution": {
     "iopub.execute_input": "2021-05-25T18:39:14.285060Z",
     "iopub.status.busy": "2021-05-25T18:39:14.284373Z",
     "iopub.status.idle": "2021-05-25T18:39:15.727273Z",
     "shell.execute_reply": "2021-05-25T18:39:15.726638Z",
     "shell.execute_reply.started": "2021-05-25T18:33:44.171149Z"
    },
    "jupyter": {
     "outputs_hidden": false
    },
    "papermill": {
     "duration": 1.579263,
     "end_time": "2021-05-25T18:39:15.727433",
     "exception": false,
     "start_time": "2021-05-25T18:39:14.148170",
     "status": "completed"
    },
    "tags": []
   },
   "outputs": [
    {
     "name": "stdout",
     "output_type": "stream",
     "text": [
      "tar: Removing leading `/' from member names\r\n",
      "/kaggle/working/\r\n",
      "/kaggle/working/6nTcsNoIGDw_ 50000_ 60000.png\r\n",
      "/kaggle/working/9P8waFCqbOQ_ 90000_ 100000.png\r\n",
      "/kaggle/working/-OanE09iAA4_ 0000_ 10000.png\r\n",
      "/kaggle/working/7IMXwGU4Ja0_ 40000_ 50000.png\r\n",
      "/kaggle/working/pos-0421-087-cough-f-40.png\r\n",
      "/kaggle/working/2Hp1AvKRiOA_ 10000_ 20000.png\r\n",
      "/kaggle/working/cov2.png\r\n",
      "/kaggle/working/0qktEoIX2Sk_ 40000_ 50000.png\r\n",
      "/kaggle/working/4ldID97D-oU_ 20000_ 30000.png\r\n",
      "/kaggle/working/0sDlmseq2Kg_ 40000_ 50000.png\r\n",
      "/kaggle/working/-hu5q-Nn4BM_ 70000_ 80000.png\r\n",
      "/kaggle/working/9WbIa8U8twQ_ 270000_ 280000.png\r\n",
      "/kaggle/working/7xSTAmKAsFE_ 120000_ 130000.png\r\n",
      "/kaggle/working/2Ev7_PQ7IIs_ 10000_ 20000.png\r\n",
      "/kaggle/working/_9YKlnmoDjs_ 11000_ 21000.png\r\n",
      "/kaggle/working/1a1Dx52izTo_ 0000_ 10000.png\r\n",
      "/kaggle/working/4_0uUL2HPe0_ 0000_ 10000.png\r\n",
      "/kaggle/working/15lAut5Ry-U_ 70000_ 80000.png\r\n",
      "/kaggle/working/3vYB7hZxQgA_ 10000_ 20000.png\r\n",
      "/kaggle/working/1MSYO4wgiag_ 120000_ 130000.png\r\n",
      "/kaggle/working/2hbytlgqDx4_ 140000_ 150000.png\r\n",
      "/kaggle/working/0oUkEze_kmo_ 30000_ 40000.png\r\n",
      "/kaggle/working/0EaxcUhZWe8_ 40000_ 50000.png\r\n",
      "/kaggle/working/0AWF9zOT8YY_ 150000_ 160000.png\r\n",
      "/kaggle/working/_hptdlGvSV4_ 10000_ 20000.png\r\n",
      "/kaggle/working/40fIOkLK3j4_ 60000_ 70000.png\r\n",
      "/kaggle/working/8FEQuq03bgU_ 40000_ 50000.png\r\n",
      "/kaggle/working/-gvLnl1smfs_ 90000_ 100000.png\r\n",
      "/kaggle/working/6uW93XzK0Xw_ 0000_ 10000.png\r\n",
      "/kaggle/working/1_oZWCKCGqA_ 10000_ 20000.png\r\n",
      "/kaggle/working/pos-0421-084-cough-m-50.png\r\n",
      "/kaggle/working/5hmDPsZnmf4_ 30000_ 40000.png\r\n",
      "/kaggle/working/-TbcaCBA0pI_ 50000_ 60000.png\r\n",
      "/kaggle/working/4rPNHAf-0Qw_ 30000_ 40000.png\r\n",
      "/kaggle/working/2EFjQPMmAS8_ 0000_ 10000.png\r\n",
      "/kaggle/working/cough-shallow-QjBZv868nydJzk0ZzwgKDHSG6Q82.png\r\n",
      "/kaggle/working/-zeXIY8V1-E_ 30000_ 40000.png\r\n",
      "/kaggle/working/4vyk0EIJGWY_ 0000_ 10000.png\r\n",
      "/kaggle/working/7hQ-7sWi8W0_ 30000_ 40000.png\r\n",
      "/kaggle/working/6K_sU6-dp0Q_ 30000_ 40000.png\r\n",
      "/kaggle/working/pos-0421-086-cough-m-65.png\r\n",
      "/kaggle/working/_e4GZ6p6nCY_ 20000_ 30000.png\r\n",
      "/kaggle/working/9WNz_rrwLFE_ 20000_ 30000.png\r\n",
      "/kaggle/working/cough-shallow-hte8VptUoGVFEqvHpbh5brgfcNP2.png\r\n",
      "/kaggle/working/-5dCv5_nvU8_ 200000_ 210000.png\r\n",
      "/kaggle/working/9k1ZuVzpF7c_ 40000_ 50000.png\r\n",
      "/kaggle/working/_0WKVY0n8aE_ 150000_ 160000.png\r\n",
      "/kaggle/working/3gFShyvw8iU_ 70000_ 80000.png\r\n",
      "/kaggle/working/4EiskLYtkO4_ 0000_ 10000.png\r\n",
      "/kaggle/working/pos-0421-093-cough-f-24.png\r\n",
      "/kaggle/working/cough-shallow-6T43bddKoKfG7MwnJWvrPZSsyrc2.png\r\n",
      "/kaggle/working/9_PvnvCyKc8_ 10000_ 20000.png\r\n",
      "/kaggle/working/cough-heavy-3CwioNQVDBQ6CttLyFVRJpMpVHk2.png\r\n",
      "/kaggle/working/-Mdd8ysxJ5c_ 10000_ 20000.png\r\n",
      "/kaggle/working/8l8ghk2CDbE_ 190000_ 200000.png\r\n",
      "/kaggle/working/1j1duoxdxBg_ 70000_ 80000.png\r\n",
      "/kaggle/working/4lOXjW8rpxU_ 0000_ 10000.png\r\n",
      "/kaggle/working/cough-heavy-hte8VptUoGVFEqvHpbh5brgfcNP2.png\r\n",
      "/kaggle/working/_-_5kbw2Mcw_ 0000_ 10000.png\r\n",
      "/kaggle/working/9yAGKsPDM14_ 80000_ 90000.png\r\n",
      "/kaggle/working/4xQcOwfV48Y_ 40000_ 50000.png\r\n",
      "/kaggle/working/5jznaeFpsJU_ 0000_ 10000.png\r\n",
      "/kaggle/working/_zrAnhgYzSo_ 10000_ 20000.png\r\n",
      "/kaggle/working/9kY53W3S_dE_ 0000_ 10000.png\r\n",
      "/kaggle/working/3Enq7k2IpvQ_ 20000_ 30000.png\r\n",
      "/kaggle/working/3nOZJicBKkU_ 90000_ 100000.png\r\n",
      "/kaggle/working/64Ymtt704So_ 50000_ 60000.png\r\n",
      "/kaggle/working/_o5xtnLwtRc_ 0000_ 10000.png\r\n",
      "/kaggle/working/7J9eEukmoIA_ 10000_ 20000.png\r\n",
      "/kaggle/working/cough-heavy-QjBZv868nydJzk0ZzwgKDHSG6Q82.png\r\n",
      "/kaggle/working/0MwZQ1-WZyM_ 0000_ 10000.png\r\n",
      "/kaggle/working/_YqaeNeVQbw_ 20000_ 30000.png\r\n",
      "/kaggle/working/3bas_0f3RG0_ 50000_ 60000.png\r\n",
      "/kaggle/working/9Zl4VUruA9I_ 120000_ 130000.png\r\n",
      "/kaggle/working/6lbkx_tf50g_ 220000_ 230000.png\r\n",
      "/kaggle/working/8IhJllXxBlQ_ 30000_ 40000.png\r\n",
      "/kaggle/working/43FtU9nHMxc_ 0000_ 10000.png\r\n",
      "/kaggle/working/0v8MGxNetjg_ 10000_ 20000.png\r\n",
      "/kaggle/working/cough-heavy-6T43bddKoKfG7MwnJWvrPZSsyrc2.png\r\n",
      "/kaggle/working/7_v8jFFo9SM_ 50000_ 60000.png\r\n",
      "/kaggle/working/43MaVucRguE_ 20000_ 30000.png\r\n",
      "/kaggle/working/6pyURnYYMwo_ 20000_ 30000.png\r\n",
      "/kaggle/working/4WLF2CT0eCM_ 40000_ 50000.png\r\n",
      "/kaggle/working/39IZIbmQPzA_ 40000_ 50000.png\r\n",
      "/kaggle/working/data_new_extended.csv\r\n",
      "/kaggle/working/_D3sxdtbFas_ 40000_ 50000.png\r\n",
      "/kaggle/working/42RAaEB-Jgs_ 110000_ 120000.png\r\n",
      "/kaggle/working/8ieJbzu7ql8_ 20000_ 30000.png\r\n",
      "/kaggle/working/2sMLoW22TeU_ 0000_ 10000.png\r\n",
      "/kaggle/working/_FVreKE6Fj8_ 50000_ 60000.png\r\n",
      "/kaggle/working/-vu4jJkffMw_ 80000_ 90000.png\r\n",
      "/kaggle/working/6PdQjCUz-S4_ 260000_ 270000.png\r\n",
      "/kaggle/working/2ZfwEg4JaiU_ 0000_ 10000.png\r\n",
      "/kaggle/working/44nJyshuBYk_ 20000_ 30000.png\r\n",
      "/kaggle/working/2Bx5e9vwLGk_ 60000_ 70000.png\r\n",
      "/kaggle/working/5wbc84KnDS0_ 60000_ 70000.png\r\n",
      "/kaggle/working/46IWQpa2v64_ 90000_ 100000.png\r\n",
      "/kaggle/working/__notebook__.ipynb\r\n",
      "/kaggle/working/cov1.png\r\n",
      "/kaggle/working/4eb2LU3X_zs_ 0000_ 10000.png\r\n",
      "/kaggle/working/1F234DLNRYc_ 10000_ 20000.png\r\n",
      "/kaggle/working/9h3a7fN0f-c_ 240000_ 250000.png\r\n",
      "/kaggle/working/2YF-ValJNas_ 0000_ 5000.png\r\n",
      "/kaggle/working/3Liy9uBgsQM_ 60000_ 70000.png\r\n",
      "/kaggle/working/1UDFq2InljM_ 10000_ 20000.png\r\n",
      "/kaggle/working/0qCvekeAHkc_ 210000_ 220000.png\r\n",
      "/kaggle/working/60NM10sTc9c_ 20000_ 30000.png\r\n",
      "/kaggle/working/0QOYirw4e3I_ 270000_ 280000.png\r\n",
      "/kaggle/working/9pX8I7KzQAI_ 10000_ 20000.png\r\n",
      "/kaggle/working/9XSE1pdHwSU_ 0000_ 10000.png\r\n",
      "/kaggle/working/pos-0422-096-cough-m-31.png\r\n",
      "/kaggle/working/9xpJWu2rNsY_ 10000_ 20000.png\r\n",
      "/kaggle/working/model_plot.png\r\n",
      "/kaggle/working/-bZrDCS8KAg_ 70000_ 80000.png\r\n",
      "/kaggle/working/2R3J8pH6E6s_ 20000_ 30000.png\r\n",
      "/kaggle/working/7QkwmMU4w1M_ 220000_ 230000.png\r\n",
      "/kaggle/working/3fz-0wek44c_ 0000_ 10000.png\r\n",
      "/kaggle/working/model.h5\r\n",
      "/kaggle/working/9-XHdlyHhaQ_ 30000_ 40000.png\r\n",
      "/kaggle/working/_qDSR5skY0c_ 70000_ 80000.png\r\n",
      "/kaggle/working/2xURixj6I5k_ 20000_ 30000.png\r\n",
      "/kaggle/working/_dfcXBTcmqU_ 70000_ 80000.png\r\n",
      "/kaggle/working/-o2vmOibWF4_ 310000_ 320000.png\r\n",
      "/kaggle/working/3aFProJmJzY_ 0000_ 10000.png\r\n",
      "/kaggle/working/cough-shallow-3CwioNQVDBQ6CttLyFVRJpMpVHk2.png\r\n",
      "/kaggle/working/2B_QV_5R4Zo_ 10000_ 20000.png\r\n",
      "/kaggle/working/0WPDmbAui6k_ 0000_ 10000.png\r\n",
      "/kaggle/working/7GBy8CUVUhU_ 0000_ 10000.png\r\n",
      "/kaggle/working/5l9qTa5OAL8_ 220000_ 230000.png\r\n",
      "/kaggle/working/1e3_ucOz0Ik_ 20000_ 30000.png\r\n",
      "/kaggle/working/0iiwZ2_9Vi8_ 90000_ 100000.png\r\n",
      "/kaggle/working/-szeMToBrRE_ 60000_ 70000.png\r\n",
      "/kaggle/working/cough-shallow-hNAGUEhL2Nh7V89at3yFEjQYo6c2.png\r\n",
      "/kaggle/working/_HLvqHDclW8_ 210000_ 220000.png\r\n",
      "/kaggle/working/--U7joUcTCo_ 0000_ 10000.png\r\n",
      "/kaggle/working/8yDeG7e1-9I_ 10000_ 20000.png\r\n",
      "/kaggle/working/2TBWSnIjJMk_ 180000_ 190000.png\r\n",
      "/kaggle/working/4jQ8ffBxWkk_ 70000_ 80000.png\r\n",
      "/kaggle/working/0mZQ6Q-viPw_ 10000_ 20000.png\r\n",
      "/kaggle/working/1PajbAKd8Kg_ 0000_ 10000.png\r\n",
      "/kaggle/working/4yFWcSkby5w_ 30000_ 40000.png\r\n",
      "/kaggle/working/2I2IzXnhmtc_ 120000_ 130000.png\r\n",
      "/kaggle/working/2Ez4R0a1icc_ 40000_ 50000.png\r\n",
      "/kaggle/working/7pqRqXjqeX4_ 330000_ 340000.png\r\n",
      "/kaggle/working/7-MnR3o0iAs_ 120000_ 130000.png\r\n",
      "/kaggle/working/-ej81N6Aqo4_ 0000_ 8000.png\r\n",
      "/kaggle/working/8FXX56zpypA_ 30000_ 40000.png\r\n",
      "/kaggle/working/model.json\r\n",
      "/kaggle/working/-jLQkyDhIxw_ 10000_ 20000.png\r\n",
      "/kaggle/working/9hl4R896W3Y_ 100000_ 110000.png\r\n",
      "/kaggle/working/-yJtuj9EuMg_ 190000_ 200000.png\r\n",
      "/kaggle/working/pos-0421-092-cough-m-53.png\r\n",
      "/kaggle/working/pos-0421-094-cough-m-51.png\r\n",
      "/kaggle/working/3dndmOMZlP8_ 100000_ 110000.png\r\n",
      "/kaggle/working/cough-heavy-hNAGUEhL2Nh7V89at3yFEjQYo6c2.png\r\n",
      "/kaggle/working/4K946lkrL9U_ 30000_ 40000.png\r\n",
      "/kaggle/working/6l52kPskdRI_ 350000_ 360000.png\r\n",
      "/kaggle/working/0Dh4NhF27jc_ 140000_ 150000.png\r\n",
      "/kaggle/working/9KNqsONT3-Y_ 70000_ 80000.png\r\n",
      "/kaggle/working/33NSh9cvNvI_ 50000_ 60000.png\r\n",
      "/kaggle/working/-jZav58HEOw_ 50000_ 60000.png\r\n",
      "/kaggle/working/5r9Ixli8hnc_ 0000_ 10000.png\r\n",
      "/kaggle/working/3id3zRRZBVM_ 50000_ 60000.png\r\n",
      "/kaggle/working/_AjXY9cHCxA_ 150000_ 160000.png\r\n",
      "/kaggle/working/0VaWzVLOWvE_ 120000_ 130000.png\r\n",
      "/kaggle/working/05YBpmCnoOQ_ 50000_ 60000.png\r\n",
      "/kaggle/working/1Xmw9VUzvLY_ 150000_ 160000.png\r\n",
      "/kaggle/working/4txOUgXllWE_ 300000_ 310000.png\r\n",
      "/kaggle/working/-VbTE2bPuyw_ 210000_ 220000.png\r\n",
      "/kaggle/working/-THYRau6Prs_ 220000_ 230000.png\r\n",
      "/kaggle/working/6OatUcXF4nk_ 0000_ 10000.png\r\n",
      "tar: /kaggle/working: file changed as we read it\r\n"
     ]
    }
   ],
   "source": [
    "!tar -zcvf outputname.tar.zip /kaggle/working"
   ]
  },
  {
   "cell_type": "code",
   "execution_count": 24,
   "metadata": {
    "_cell_guid": "4d2af6aa-564a-458c-8089-3c59ed0d9d74",
    "_uuid": "37dd58df-003b-4a56-b60f-60cc7220d2e2",
    "collapsed": false,
    "execution": {
     "iopub.execute_input": "2021-05-25T18:39:16.031628Z",
     "iopub.status.busy": "2021-05-25T18:39:16.030759Z",
     "iopub.status.idle": "2021-05-25T18:39:16.034642Z",
     "shell.execute_reply": "2021-05-25T18:39:16.034002Z",
     "shell.execute_reply.started": "2021-05-25T18:35:00.139852Z"
    },
    "jupyter": {
     "outputs_hidden": false
    },
    "papermill": {
     "duration": 0.158585,
     "end_time": "2021-05-25T18:39:16.034782",
     "exception": false,
     "start_time": "2021-05-25T18:39:15.876197",
     "status": "completed"
    },
    "tags": []
   },
   "outputs": [],
   "source": [
    "df = pd.DataFrame(predictions, columns = ['Negative','Positive'])"
   ]
  },
  {
   "cell_type": "code",
   "execution_count": 25,
   "metadata": {
    "execution": {
     "iopub.execute_input": "2021-05-25T18:39:16.333927Z",
     "iopub.status.busy": "2021-05-25T18:39:16.332805Z",
     "iopub.status.idle": "2021-05-25T18:39:16.336221Z",
     "shell.execute_reply": "2021-05-25T18:39:16.335520Z",
     "shell.execute_reply.started": "2021-05-25T18:35:19.355909Z"
    },
    "papermill": {
     "duration": 0.153047,
     "end_time": "2021-05-25T18:39:16.336335",
     "exception": false,
     "start_time": "2021-05-25T18:39:16.183288",
     "status": "completed"
    },
    "tags": []
   },
   "outputs": [],
   "source": [
    "a = df.iloc[:,0] < df.iloc[:,1] \n",
    "a = a*1"
   ]
  },
  {
   "cell_type": "code",
   "execution_count": 26,
   "metadata": {
    "execution": {
     "iopub.execute_input": "2021-05-25T18:39:16.619464Z",
     "iopub.status.busy": "2021-05-25T18:39:16.618842Z",
     "iopub.status.idle": "2021-05-25T18:39:16.624861Z",
     "shell.execute_reply": "2021-05-25T18:39:16.623380Z",
     "shell.execute_reply.started": "2021-05-25T18:35:32.239296Z"
    },
    "papermill": {
     "duration": 0.14868,
     "end_time": "2021-05-25T18:39:16.624989",
     "exception": false,
     "start_time": "2021-05-25T18:39:16.476309",
     "status": "completed"
    },
    "tags": []
   },
   "outputs": [],
   "source": [
    "from sklearn.metrics import roc_curve\n",
    "from sklearn.metrics import roc_auc_score\n",
    "from matplotlib import pyplot"
   ]
  },
  {
   "cell_type": "code",
   "execution_count": 27,
   "metadata": {
    "execution": {
     "iopub.execute_input": "2021-05-25T18:39:16.908363Z",
     "iopub.status.busy": "2021-05-25T18:39:16.907139Z",
     "iopub.status.idle": "2021-05-25T18:39:16.913138Z",
     "shell.execute_reply": "2021-05-25T18:39:16.912398Z",
     "shell.execute_reply.started": "2021-05-25T18:35:41.696851Z"
    },
    "papermill": {
     "duration": 0.150655,
     "end_time": "2021-05-25T18:39:16.913282",
     "exception": false,
     "start_time": "2021-05-25T18:39:16.762627",
     "status": "completed"
    },
    "tags": []
   },
   "outputs": [
    {
     "data": {
      "text/plain": [
       "array([1, 1, 1, 0, 1, 1, 1, 1, 1, 1, 1, 1, 0, 1, 1, 1, 1, 1, 1, 1, 1, 1,\n",
       "       1, 1, 1, 1, 1, 1, 1, 1, 1, 1, 1, 1, 1, 1, 1, 0, 1, 0, 1, 1, 1, 1,\n",
       "       1, 1, 1, 1, 1, 1, 1, 1, 1, 1, 1, 1, 1])"
      ]
     },
     "execution_count": 27,
     "metadata": {},
     "output_type": "execute_result"
    }
   ],
   "source": [
    "a.to_numpy()"
   ]
  },
  {
   "cell_type": "code",
   "execution_count": 28,
   "metadata": {
    "execution": {
     "iopub.execute_input": "2021-05-25T18:39:17.213222Z",
     "iopub.status.busy": "2021-05-25T18:39:17.212447Z",
     "iopub.status.idle": "2021-05-25T18:39:17.216008Z",
     "shell.execute_reply": "2021-05-25T18:39:17.215274Z",
     "shell.execute_reply.started": "2021-05-25T18:35:57.724072Z"
    },
    "papermill": {
     "duration": 0.156745,
     "end_time": "2021-05-25T18:39:17.216152",
     "exception": false,
     "start_time": "2021-05-25T18:39:17.059407",
     "status": "completed"
    },
    "tags": []
   },
   "outputs": [
    {
     "data": {
      "text/plain": [
       "array([1, 1, 1, 0, 1, 1, 1, 1, 1, 1, 1, 1, 0, 1, 1, 1, 1, 1, 1, 1, 1, 1,\n",
       "       1, 1, 1, 1, 1, 1, 1, 1, 1, 1, 1, 1, 1, 1, 1, 0, 1, 0, 1, 1, 1, 1,\n",
       "       1, 1, 1, 1, 1, 1, 1, 1, 1, 1, 1, 1, 1])"
      ]
     },
     "execution_count": 28,
     "metadata": {},
     "output_type": "execute_result"
    }
   ],
   "source": [
    "y_test"
   ]
  },
  {
   "cell_type": "code",
   "execution_count": 29,
   "metadata": {
    "execution": {
     "iopub.execute_input": "2021-05-25T18:39:17.502218Z",
     "iopub.status.busy": "2021-05-25T18:39:17.501532Z",
     "iopub.status.idle": "2021-05-25T18:39:17.693453Z",
     "shell.execute_reply": "2021-05-25T18:39:17.692590Z",
     "shell.execute_reply.started": "2021-05-25T18:37:28.847368Z"
    },
    "papermill": {
     "duration": 0.336597,
     "end_time": "2021-05-25T18:39:17.693601",
     "exception": false,
     "start_time": "2021-05-25T18:39:17.357004",
     "status": "completed"
    },
    "tags": []
   },
   "outputs": [
    {
     "name": "stdout",
     "output_type": "stream",
     "text": [
      "Model: auROC=1.000\n"
     ]
    },
    {
     "data": {
      "image/png": "[encoded data removed]",
      "text/plain": [
       "<Figure size 432x288 with 1 Axes>"
      ]
     },
     "metadata": {
      "needs_background": "light"
     },
     "output_type": "display_data"
    }
   ],
   "source": [
    "# summarize score\n",
    "print('Model: auROC=%.3f' % (roc_auc_score(y_test, a)))\n",
    "# calculate roc curves\n",
    "lr_fpr, lr_tpr, _ = roc_curve(y_test, a)\n",
    "# plot the roc curve for the model\n",
    "pyplot.plot(lr_fpr, lr_tpr, marker='.', label='Model')\n",
    "# axis labels\n",
    "pyplot.xlabel('False Positive Rate')\n",
    "pyplot.ylabel('True Positive Rate')\n",
    "# show the legend\n",
    "pyplot.legend()\n",
    "# show the plot\n",
    "pyplot.show()"
   ]
  },
  {
   "cell_type": "code",
   "execution_count": null,
   "metadata": {
    "papermill": {
     "duration": 0.143833,
     "end_time": "2021-05-25T18:39:17.980169",
     "exception": false,
     "start_time": "2021-05-25T18:39:17.836336",
     "status": "completed"
    },
    "tags": []
   },
   "outputs": [],
   "source": []
  }
 ],
 "metadata": {
  "kernelspec": {
   "display_name": "Python 3",
   "language": "python",
   "name": "python3"
  },
  "language_info": {
   "codemirror_mode": {
    "name": "ipython",
    "version": 3
   },
   "file_extension": ".py",
   "mimetype": "text/x-python",
   "name": "python",
   "nbconvert_exporter": "python",
   "pygments_lexer": "ipython3",
   "version": "3.7.6"
  },
  "papermill": {
   "duration": 72.853647,
   "end_time": "2021-05-25T18:39:18.238849",
   "environment_variables": {},
   "exception": null,
   "input_path": "__notebook__.ipynb",
   "output_path": "__notebook__.ipynb",
   "parameters": {},
   "start_time": "2021-05-25T18:38:05.385202",
   "version": "2.1.0"
  }
 },
 "nbformat": 4,
 "nbformat_minor": 4
}
