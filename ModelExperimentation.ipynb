{
 "cells": [
  {
   "cell_type": "markdown",
   "metadata": {},
   "source": [
    "Latest : Model 4 accuracy 77.37% via Gradient Boosting"
   ]
  },
  {
   "cell_type": "code",
   "execution_count": 1,
   "metadata": {},
   "outputs": [
    {
     "name": "stdout",
     "output_type": "stream",
     "text": [
      "/device:GPU:0\n",
      "CPU count :  12\n"
     ]
    }
   ],
   "source": [
    "import os\n",
    "os.add_dll_directory(\"C:/Program Files/NVIDIA GPU Computing Toolkit/CUDA/v11.2/bin\")\n",
    "import tensorflow as tf\n",
    "print(tf.test.gpu_device_name());\n",
    "print(\"CPU count : \",os.cpu_count());\n",
    "import pandas as pd\n",
    "import numpy as np\n",
    "import matplotlib.pyplot as plt\n",
    "%matplotlib inline\n",
    "from PIL import Image\n",
    "# Preprocessing\n",
    "from sklearn.model_selection import train_test_split\n",
    "from sklearn.preprocessing import LabelEncoder, StandardScaler\n",
    "import warnings\n",
    "warnings.filterwarnings('ignore')\n",
    "import librosa\n",
    "import csv\n",
    "from tensorflow import keras"
   ]
  },
  {
   "cell_type": "code",
   "execution_count": 3,
   "metadata": {},
   "outputs": [
    {
     "data": {
      "text/html": [
       "<div>\n",
       "<style scoped>\n",
       "    .dataframe tbody tr th:only-of-type {\n",
       "        vertical-align: middle;\n",
       "    }\n",
       "\n",
       "    .dataframe tbody tr th {\n",
       "        vertical-align: top;\n",
       "    }\n",
       "\n",
       "    .dataframe thead th {\n",
       "        text-align: right;\n",
       "    }\n",
       "</style>\n",
       "<table border=\"1\" class=\"dataframe\">\n",
       "  <thead>\n",
       "    <tr style=\"text-align: right;\">\n",
       "      <th></th>\n",
       "      <th>chroma_stft</th>\n",
       "      <th>rmse</th>\n",
       "      <th>spectral_centroid</th>\n",
       "      <th>spectral_bandwidth</th>\n",
       "      <th>rolloff</th>\n",
       "      <th>zero_crossing_rate</th>\n",
       "      <th>mfcc1</th>\n",
       "      <th>mfcc2</th>\n",
       "      <th>mfcc3</th>\n",
       "      <th>mfcc4</th>\n",
       "      <th>...</th>\n",
       "      <th>mfcc15</th>\n",
       "      <th>mfcc16</th>\n",
       "      <th>mfcc17</th>\n",
       "      <th>mfcc18</th>\n",
       "      <th>mfcc19</th>\n",
       "      <th>mfcc20</th>\n",
       "      <th>age</th>\n",
       "      <th>gender</th>\n",
       "      <th>respiratory_condition</th>\n",
       "      <th>status</th>\n",
       "    </tr>\n",
       "  </thead>\n",
       "  <tbody>\n",
       "    <tr>\n",
       "      <th>0</th>\n",
       "      <td>0.125799</td>\n",
       "      <td>0.018790</td>\n",
       "      <td>557.246888</td>\n",
       "      <td>541.449181</td>\n",
       "      <td>1236.613973</td>\n",
       "      <td>0.038685</td>\n",
       "      <td>-548.788940</td>\n",
       "      <td>23.606979</td>\n",
       "      <td>-5.905068</td>\n",
       "      <td>9.216256</td>\n",
       "      <td>...</td>\n",
       "      <td>-1.999512</td>\n",
       "      <td>-3.538264</td>\n",
       "      <td>1.217950</td>\n",
       "      <td>-2.029420</td>\n",
       "      <td>0.313303</td>\n",
       "      <td>-0.222275</td>\n",
       "      <td>15.0</td>\n",
       "      <td>1</td>\n",
       "      <td>0</td>\n",
       "      <td>0.0</td>\n",
       "    </tr>\n",
       "    <tr>\n",
       "      <th>1</th>\n",
       "      <td>0.418816</td>\n",
       "      <td>0.001655</td>\n",
       "      <td>2932.042041</td>\n",
       "      <td>2287.258342</td>\n",
       "      <td>5392.572021</td>\n",
       "      <td>0.322187</td>\n",
       "      <td>-701.705505</td>\n",
       "      <td>63.574074</td>\n",
       "      <td>6.485498</td>\n",
       "      <td>2.101877</td>\n",
       "      <td>...</td>\n",
       "      <td>4.290841</td>\n",
       "      <td>-7.062682</td>\n",
       "      <td>1.838967</td>\n",
       "      <td>-3.643120</td>\n",
       "      <td>-3.821690</td>\n",
       "      <td>-1.129711</td>\n",
       "      <td>46.0</td>\n",
       "      <td>0</td>\n",
       "      <td>0</td>\n",
       "      <td>0.0</td>\n",
       "    </tr>\n",
       "    <tr>\n",
       "      <th>2</th>\n",
       "      <td>0.394565</td>\n",
       "      <td>0.097457</td>\n",
       "      <td>1841.552611</td>\n",
       "      <td>1863.271100</td>\n",
       "      <td>3799.444895</td>\n",
       "      <td>0.088711</td>\n",
       "      <td>-279.251099</td>\n",
       "      <td>101.417145</td>\n",
       "      <td>-26.392599</td>\n",
       "      <td>16.304626</td>\n",
       "      <td>...</td>\n",
       "      <td>-9.214826</td>\n",
       "      <td>-5.784528</td>\n",
       "      <td>-1.586974</td>\n",
       "      <td>-7.638764</td>\n",
       "      <td>-6.929610</td>\n",
       "      <td>-5.573641</td>\n",
       "      <td>34.0</td>\n",
       "      <td>1</td>\n",
       "      <td>1</td>\n",
       "      <td>0.0</td>\n",
       "    </tr>\n",
       "    <tr>\n",
       "      <th>3</th>\n",
       "      <td>0.508658</td>\n",
       "      <td>0.051866</td>\n",
       "      <td>2905.802874</td>\n",
       "      <td>2060.310320</td>\n",
       "      <td>5379.263306</td>\n",
       "      <td>0.291334</td>\n",
       "      <td>-398.473663</td>\n",
       "      <td>51.205776</td>\n",
       "      <td>-56.377773</td>\n",
       "      <td>15.692808</td>\n",
       "      <td>...</td>\n",
       "      <td>-1.794698</td>\n",
       "      <td>-6.441534</td>\n",
       "      <td>7.364425</td>\n",
       "      <td>-4.945196</td>\n",
       "      <td>0.024016</td>\n",
       "      <td>-2.326225</td>\n",
       "      <td>21.0</td>\n",
       "      <td>1</td>\n",
       "      <td>0</td>\n",
       "      <td>0.0</td>\n",
       "    </tr>\n",
       "    <tr>\n",
       "      <th>4</th>\n",
       "      <td>0.090675</td>\n",
       "      <td>0.004550</td>\n",
       "      <td>265.456102</td>\n",
       "      <td>310.753467</td>\n",
       "      <td>539.426676</td>\n",
       "      <td>0.013830</td>\n",
       "      <td>-563.476257</td>\n",
       "      <td>13.822523</td>\n",
       "      <td>0.114156</td>\n",
       "      <td>5.914953</td>\n",
       "      <td>...</td>\n",
       "      <td>-1.085041</td>\n",
       "      <td>-2.185372</td>\n",
       "      <td>-1.310865</td>\n",
       "      <td>-0.790942</td>\n",
       "      <td>-0.715821</td>\n",
       "      <td>-0.834619</td>\n",
       "      <td>20.0</td>\n",
       "      <td>1</td>\n",
       "      <td>1</td>\n",
       "      <td>0.0</td>\n",
       "    </tr>\n",
       "    <tr>\n",
       "      <th>...</th>\n",
       "      <td>...</td>\n",
       "      <td>...</td>\n",
       "      <td>...</td>\n",
       "      <td>...</td>\n",
       "      <td>...</td>\n",
       "      <td>...</td>\n",
       "      <td>...</td>\n",
       "      <td>...</td>\n",
       "      <td>...</td>\n",
       "      <td>...</td>\n",
       "      <td>...</td>\n",
       "      <td>...</td>\n",
       "      <td>...</td>\n",
       "      <td>...</td>\n",
       "      <td>...</td>\n",
       "      <td>...</td>\n",
       "      <td>...</td>\n",
       "      <td>...</td>\n",
       "      <td>...</td>\n",
       "      <td>...</td>\n",
       "      <td>...</td>\n",
       "    </tr>\n",
       "    <tr>\n",
       "      <th>14477</th>\n",
       "      <td>0.512944</td>\n",
       "      <td>0.023030</td>\n",
       "      <td>3137.558994</td>\n",
       "      <td>2186.533578</td>\n",
       "      <td>5676.626587</td>\n",
       "      <td>0.268209</td>\n",
       "      <td>-484.073181</td>\n",
       "      <td>28.063210</td>\n",
       "      <td>-12.200029</td>\n",
       "      <td>10.437543</td>\n",
       "      <td>...</td>\n",
       "      <td>4.924140</td>\n",
       "      <td>1.253925</td>\n",
       "      <td>-1.383177</td>\n",
       "      <td>0.233916</td>\n",
       "      <td>-0.477571</td>\n",
       "      <td>-2.084248</td>\n",
       "      <td>16.0</td>\n",
       "      <td>1</td>\n",
       "      <td>0</td>\n",
       "      <td>0.0</td>\n",
       "    </tr>\n",
       "    <tr>\n",
       "      <th>14478</th>\n",
       "      <td>0.285275</td>\n",
       "      <td>0.010410</td>\n",
       "      <td>2098.124122</td>\n",
       "      <td>1878.304713</td>\n",
       "      <td>3930.258179</td>\n",
       "      <td>0.133199</td>\n",
       "      <td>-600.030029</td>\n",
       "      <td>63.579899</td>\n",
       "      <td>22.134485</td>\n",
       "      <td>18.594692</td>\n",
       "      <td>...</td>\n",
       "      <td>-2.418489</td>\n",
       "      <td>1.414832</td>\n",
       "      <td>-5.155683</td>\n",
       "      <td>-4.513929</td>\n",
       "      <td>-6.017869</td>\n",
       "      <td>-7.827081</td>\n",
       "      <td>69.0</td>\n",
       "      <td>1</td>\n",
       "      <td>0</td>\n",
       "      <td>0.0</td>\n",
       "    </tr>\n",
       "    <tr>\n",
       "      <th>14479</th>\n",
       "      <td>0.389768</td>\n",
       "      <td>0.016855</td>\n",
       "      <td>3141.166825</td>\n",
       "      <td>2614.720507</td>\n",
       "      <td>6443.711344</td>\n",
       "      <td>0.256569</td>\n",
       "      <td>-520.521912</td>\n",
       "      <td>4.831301</td>\n",
       "      <td>-3.302560</td>\n",
       "      <td>-1.760425</td>\n",
       "      <td>...</td>\n",
       "      <td>-1.234321</td>\n",
       "      <td>-0.769954</td>\n",
       "      <td>-1.085883</td>\n",
       "      <td>0.277529</td>\n",
       "      <td>-1.258130</td>\n",
       "      <td>1.418048</td>\n",
       "      <td>35.0</td>\n",
       "      <td>1</td>\n",
       "      <td>0</td>\n",
       "      <td>0.0</td>\n",
       "    </tr>\n",
       "    <tr>\n",
       "      <th>14480</th>\n",
       "      <td>0.418769</td>\n",
       "      <td>0.066166</td>\n",
       "      <td>2837.313551</td>\n",
       "      <td>1815.051664</td>\n",
       "      <td>4712.282308</td>\n",
       "      <td>0.254508</td>\n",
       "      <td>-334.125763</td>\n",
       "      <td>49.621655</td>\n",
       "      <td>-18.739819</td>\n",
       "      <td>25.851189</td>\n",
       "      <td>...</td>\n",
       "      <td>5.391032</td>\n",
       "      <td>-5.658160</td>\n",
       "      <td>-1.373990</td>\n",
       "      <td>-4.224291</td>\n",
       "      <td>-3.982193</td>\n",
       "      <td>-1.760277</td>\n",
       "      <td>31.0</td>\n",
       "      <td>0</td>\n",
       "      <td>0</td>\n",
       "      <td>0.0</td>\n",
       "    </tr>\n",
       "    <tr>\n",
       "      <th>14481</th>\n",
       "      <td>0.196956</td>\n",
       "      <td>0.000056</td>\n",
       "      <td>1059.588230</td>\n",
       "      <td>814.871904</td>\n",
       "      <td>1878.123983</td>\n",
       "      <td>0.052190</td>\n",
       "      <td>-1041.383301</td>\n",
       "      <td>18.005108</td>\n",
       "      <td>-4.002474</td>\n",
       "      <td>13.165979</td>\n",
       "      <td>...</td>\n",
       "      <td>-0.295909</td>\n",
       "      <td>0.403715</td>\n",
       "      <td>1.683056</td>\n",
       "      <td>0.711961</td>\n",
       "      <td>-0.988573</td>\n",
       "      <td>2.404840</td>\n",
       "      <td>52.0</td>\n",
       "      <td>0</td>\n",
       "      <td>0</td>\n",
       "      <td>0.0</td>\n",
       "    </tr>\n",
       "  </tbody>\n",
       "</table>\n",
       "<p>14482 rows × 30 columns</p>\n",
       "</div>"
      ],
      "text/plain": [
       "       chroma_stft      rmse  spectral_centroid  spectral_bandwidth  \\\n",
       "0         0.125799  0.018790         557.246888          541.449181   \n",
       "1         0.418816  0.001655        2932.042041         2287.258342   \n",
       "2         0.394565  0.097457        1841.552611         1863.271100   \n",
       "3         0.508658  0.051866        2905.802874         2060.310320   \n",
       "4         0.090675  0.004550         265.456102          310.753467   \n",
       "...            ...       ...                ...                 ...   \n",
       "14477     0.512944  0.023030        3137.558994         2186.533578   \n",
       "14478     0.285275  0.010410        2098.124122         1878.304713   \n",
       "14479     0.389768  0.016855        3141.166825         2614.720507   \n",
       "14480     0.418769  0.066166        2837.313551         1815.051664   \n",
       "14481     0.196956  0.000056        1059.588230          814.871904   \n",
       "\n",
       "           rolloff  zero_crossing_rate        mfcc1       mfcc2      mfcc3  \\\n",
       "0      1236.613973            0.038685  -548.788940   23.606979  -5.905068   \n",
       "1      5392.572021            0.322187  -701.705505   63.574074   6.485498   \n",
       "2      3799.444895            0.088711  -279.251099  101.417145 -26.392599   \n",
       "3      5379.263306            0.291334  -398.473663   51.205776 -56.377773   \n",
       "4       539.426676            0.013830  -563.476257   13.822523   0.114156   \n",
       "...            ...                 ...          ...         ...        ...   \n",
       "14477  5676.626587            0.268209  -484.073181   28.063210 -12.200029   \n",
       "14478  3930.258179            0.133199  -600.030029   63.579899  22.134485   \n",
       "14479  6443.711344            0.256569  -520.521912    4.831301  -3.302560   \n",
       "14480  4712.282308            0.254508  -334.125763   49.621655 -18.739819   \n",
       "14481  1878.123983            0.052190 -1041.383301   18.005108  -4.002474   \n",
       "\n",
       "           mfcc4  ...    mfcc15    mfcc16    mfcc17    mfcc18    mfcc19  \\\n",
       "0       9.216256  ... -1.999512 -3.538264  1.217950 -2.029420  0.313303   \n",
       "1       2.101877  ...  4.290841 -7.062682  1.838967 -3.643120 -3.821690   \n",
       "2      16.304626  ... -9.214826 -5.784528 -1.586974 -7.638764 -6.929610   \n",
       "3      15.692808  ... -1.794698 -6.441534  7.364425 -4.945196  0.024016   \n",
       "4       5.914953  ... -1.085041 -2.185372 -1.310865 -0.790942 -0.715821   \n",
       "...          ...  ...       ...       ...       ...       ...       ...   \n",
       "14477  10.437543  ...  4.924140  1.253925 -1.383177  0.233916 -0.477571   \n",
       "14478  18.594692  ... -2.418489  1.414832 -5.155683 -4.513929 -6.017869   \n",
       "14479  -1.760425  ... -1.234321 -0.769954 -1.085883  0.277529 -1.258130   \n",
       "14480  25.851189  ...  5.391032 -5.658160 -1.373990 -4.224291 -3.982193   \n",
       "14481  13.165979  ... -0.295909  0.403715  1.683056  0.711961 -0.988573   \n",
       "\n",
       "         mfcc20   age  gender  respiratory_condition  status  \n",
       "0     -0.222275  15.0       1                      0     0.0  \n",
       "1     -1.129711  46.0       0                      0     0.0  \n",
       "2     -5.573641  34.0       1                      1     0.0  \n",
       "3     -2.326225  21.0       1                      0     0.0  \n",
       "4     -0.834619  20.0       1                      1     0.0  \n",
       "...         ...   ...     ...                    ...     ...  \n",
       "14477 -2.084248  16.0       1                      0     0.0  \n",
       "14478 -7.827081  69.0       1                      0     0.0  \n",
       "14479  1.418048  35.0       1                      0     0.0  \n",
       "14480 -1.760277  31.0       0                      0     0.0  \n",
       "14481  2.404840  52.0       0                      0     0.0  \n",
       "\n",
       "[14482 rows x 30 columns]"
      ]
     },
     "execution_count": 3,
     "metadata": {},
     "output_type": "execute_result"
    }
   ],
   "source": [
    "df = pd.read_csv('CSVs/unified_dataset.csv')\n",
    "df = df.drop(['uuid'],axis=1)\n",
    "#df = df.drop(df.columns[range(6,25)],axis=1)\n",
    "df"
   ]
  },
  {
   "cell_type": "code",
   "execution_count": 4,
   "metadata": {},
   "outputs": [
    {
     "data": {
      "text/plain": [
       "0.0    11158\n",
       "1.0     3324\n",
       "Name: status, dtype: int64"
      ]
     },
     "execution_count": 4,
     "metadata": {},
     "output_type": "execute_result"
    }
   ],
   "source": [
    "df['status'].value_counts()"
   ]
  },
  {
   "cell_type": "code",
   "execution_count": 4,
   "metadata": {},
   "outputs": [],
   "source": [
    "from sklearn.preprocessing import StandardScaler\n",
    "scaler = StandardScaler()\n",
    "X = df.iloc[:,:-1]\n",
    "Y = df.iloc[:,-1]\n",
    "X = scaler.fit_transform(X)\n",
    "model = keras.models.Sequential()\n",
    "model.add(keras.layers.InputLayer(input_shape=(X.shape[1],)))\n",
    "model.add(keras.layers.Dense(128,activation='relu'))\n",
    "model.add(keras.layers.Dense(64,activation='relu'))\n",
    "model.add(keras.layers.Dense(1,activation='sigmoid'))\n",
    "model.compile(optimizer=\"Adam\",loss=\"binary_crossentropy\",metrics=[\"accuracy\"])"
   ]
  },
  {
   "cell_type": "code",
   "execution_count": 5,
   "metadata": {},
   "outputs": [
    {
     "name": "stdout",
     "output_type": "stream",
     "text": [
      "Epoch 1/6\n",
      "408/408 [==============================] - 3s 6ms/step - loss: 0.5268 - accuracy: 0.7673 - val_loss: 0.5148 - val_accuracy: 0.7702\n",
      "Epoch 2/6\n",
      "408/408 [==============================] - 2s 5ms/step - loss: 0.5101 - accuracy: 0.7717 - val_loss: 0.5139 - val_accuracy: 0.7681\n",
      "Epoch 3/6\n",
      "408/408 [==============================] - 2s 5ms/step - loss: 0.5043 - accuracy: 0.7732 - val_loss: 0.5121 - val_accuracy: 0.7798\n",
      "Epoch 4/6\n",
      "408/408 [==============================] - 2s 5ms/step - loss: 0.4991 - accuracy: 0.7754 - val_loss: 0.5142 - val_accuracy: 0.7792\n",
      "Epoch 5/6\n",
      "408/408 [==============================] - 2s 5ms/step - loss: 0.4935 - accuracy: 0.7790 - val_loss: 0.5157 - val_accuracy: 0.7743\n",
      "Epoch 6/6\n",
      "408/408 [==============================] - 2s 5ms/step - loss: 0.4891 - accuracy: 0.7816 - val_loss: 0.5197 - val_accuracy: 0.7764\n"
     ]
    },
    {
     "data": {
      "image/png": "[encoded data removed]",
      "text/plain": [
       "<Figure size 432x288 with 1 Axes>"
      ]
     },
     "metadata": {
      "needs_background": "light"
     },
     "output_type": "display_data"
    },
    {
     "data": {
      "image/png": "[encoded data removed]",
      "text/plain": [
       "<Figure size 432x288 with 1 Axes>"
      ]
     },
     "metadata": {
      "needs_background": "light"
     },
     "output_type": "display_data"
    }
   ],
   "source": [
    "history = model.fit(X,Y.values,epochs=6,validation_split=0.1)\n",
    "loss = history.history['loss']\n",
    "accuracy = history.history['accuracy']\n",
    "validation_accuracy = history.history['val_accuracy']\n",
    "validation_loss = history.history['val_loss']\n",
    "epochs = range(len(history.history['loss']))\n",
    "# summarize history for accuracy\n",
    "plt.plot(history.history['accuracy'])\n",
    "plt.plot(history.history['val_accuracy'])\n",
    "plt.title('model accuracy')\n",
    "plt.ylabel('accuracy')\n",
    "plt.xlabel('epoch')\n",
    "plt.legend(['train', 'test'], loc='upper left')\n",
    "plt.show()\n",
    "# summarize history for loss\n",
    "plt.plot(history.history['loss'])\n",
    "plt.plot(history.history['val_loss'])\n",
    "plt.title('model loss')\n",
    "plt.ylabel('loss')\n",
    "plt.xlabel('epoch')\n",
    "plt.legend(['train', 'test'], loc='upper left')\n",
    "plt.show()"
   ]
  },
  {
   "cell_type": "code",
   "execution_count": 65,
   "metadata": {},
   "outputs": [],
   "source": [
    "model.save('Models/model3.h5')"
   ]
  },
  {
   "cell_type": "markdown",
   "metadata": {},
   "source": [
    "# Gradient Boosting Classifier\n",
    "GBM will require separate train and test datafiles with the same ratio of classes as the original data"
   ]
  },
  {
   "cell_type": "code",
   "execution_count": 17,
   "metadata": {},
   "outputs": [
    {
     "data": {
      "text/plain": [
       "3324"
      ]
     },
     "execution_count": 17,
     "metadata": {},
     "output_type": "execute_result"
    }
   ],
   "source": [
    "# separating positive and negative values\n",
    "positive = []\n",
    "negative = []\n",
    "for i in range(len(df)) :\n",
    "    if df['status'][i] == 1 :\n",
    "        positive.append(df.iloc[i,:])\n",
    "    else :\n",
    "        negative.append(df.iloc[i,:])"
   ]
  },
  {
   "cell_type": "code",
   "execution_count": 6,
   "metadata": {},
   "outputs": [],
   "source": [
    "# adding 80% values to train and rest to test\n",
    "positive = pd.DataFrame(positive)\n",
    "negative = pd.DataFrame(negative)\n",
    "train = []\n",
    "test = []\n",
    "for i in range(len(positive)) :\n",
    "    if i<= 0.8*len(positive) :\n",
    "        train.append(positive.iloc[i,:])\n",
    "    else :\n",
    "        test.append(positive.iloc[i,:])\n",
    "for i in range(len(negative)) :\n",
    "    if i<= 0.8*len(negative) :\n",
    "        train.append(negative.iloc[i,:])\n",
    "    else :\n",
    "        test.append(negative.iloc[i,:])\n",
    "train = pd.DataFrame(train)\n",
    "test = pd.DataFrame(test)"
   ]
  },
  {
   "cell_type": "code",
   "execution_count": 7,
   "metadata": {},
   "outputs": [],
   "source": [
    "# shuffling the values of the train and test data\n",
    "train = train.sample(frac=1)\n",
    "test = test.sample(frac=1)\n",
    "train.to_csv(\"train_dataset.csv\",index=False)\n",
    "test.to_csv(\"test_dataset.csv\",index=False)"
   ]
  },
  {
   "cell_type": "code",
   "execution_count": 2,
   "metadata": {},
   "outputs": [
    {
     "data": {
      "text/plain": [
       "0.7713298791018999"
      ]
     },
     "execution_count": 2,
     "metadata": {},
     "output_type": "execute_result"
    }
   ],
   "source": [
    "# implementing GradientBoostingClassifier\n",
    "train = pd.read_csv('train_dataset.csv')\n",
    "test = pd.read_csv('test_dataset.csv')\n",
    "X_train = train.iloc[:,:-1]\n",
    "Y_train = train.iloc[:,-1]\n",
    "X_test = test.iloc[:,:-1]\n",
    "Y_test = test.iloc[:,-1]\n",
    "from sklearn.ensemble import GradientBoostingClassifier\n",
    "clf = GradientBoostingClassifier(n_estimators=150,learning_rate=1.0,max_depth=1,random_state=0).fit(X_train,Y_train)\n",
    "clf.score(X_test,Y_test)"
   ]
  },
  {
   "cell_type": "code",
   "execution_count": null,
   "metadata": {},
   "outputs": [],
   "source": [
    "# testing all combinations of hyperparameters\n",
    "estimator_values = [100,125,150,200,225,250,300]\n",
    "learning_rate_values = [0.5,1.5,1.75,2.0]\n",
    "max_depth_values = [1,2,3,4]\n",
    "for estimator_value in estimator_values :\n",
    "    for learning_rate_value in learning_rate_values :\n",
    "        for max_depth_value in max_depth_values :\n",
    "            clf = GradientBoostingClassifier(n_estimators=estimator_value,learning_rate=learning_rate_value,max_depth=max_depth_value,random_state=0).fit(X_train,Y_train)\n",
    "            print(\"For nestimators : \",estimator_value,\" learning rate : \",learning_rate_value,\" max depth : \",max_depth_value)\n",
    "            print(\"accuracy is \",clf.score(X_test,Y_test))\n",
    "# For nestimators :  200  learning rate :  0.5  max depth :  1 accuracy is  0.7737478411053541"
   ]
  },
  {
   "cell_type": "code",
   "execution_count": 3,
   "metadata": {},
   "outputs": [
    {
     "data": {
      "text/plain": [
       "0.7737478411053541"
      ]
     },
     "execution_count": 3,
     "metadata": {},
     "output_type": "execute_result"
    }
   ],
   "source": [
    "clf = GradientBoostingClassifier(n_estimators=200,learning_rate=0.5,max_depth=1,random_state=0).fit(X_train,Y_train)\n",
    "clf.score(X_test,Y_test)"
   ]
  },
  {
   "cell_type": "code",
   "execution_count": 12,
   "metadata": {},
   "outputs": [
    {
     "data": {
      "text/plain": [
       "array([0.])"
      ]
     },
     "execution_count": 12,
     "metadata": {},
     "output_type": "execute_result"
    }
   ],
   "source": [
    "\n",
    "clf.predict([list(X_test.iloc[1,:])])"
   ]
  },
  {
   "cell_type": "code",
   "execution_count": 17,
   "metadata": {},
   "outputs": [],
   "source": [
    "import pickle\n",
    "pickle.dump(clf,open(\"Model4.sav\",\"wb\"))"
   ]
  },
  {
   "cell_type": "code",
   "execution_count": 10,
   "metadata": {},
   "outputs": [
    {
     "data": {
      "text/plain": [
       "0.7737478411053541"
      ]
     },
     "execution_count": 10,
     "metadata": {},
     "output_type": "execute_result"
    }
   ],
   "source": [
    "import pickle\n",
    "clf = pickle.load(open(\"Models/Model4_GBM.sav\",'rb'))\n",
    "clf.score(X_test,Y_test)"
   ]
  },
  {
   "cell_type": "code",
   "execution_count": 15,
   "metadata": {},
   "outputs": [
    {
     "data": {
      "text/plain": [
       "<sklearn.metrics._plot.confusion_matrix.ConfusionMatrixDisplay at 0x15388898fa0>"
      ]
     },
     "execution_count": 15,
     "metadata": {},
     "output_type": "execute_result"
    },
    {
     "data": {
      "image/png": "[encoded data removed]",
      "text/plain": [
       "<Figure size 432x288 with 2 Axes>"
      ]
     },
     "metadata": {
      "needs_background": "light"
     },
     "output_type": "display_data"
    }
   ],
   "source": [
    "from sklearn import metrics\n",
    "Y_preds = clf.predict(X_test)\n",
    "cm = metrics.confusion_matrix(Y_test,Y_preds)\n",
    "disp = metrics.ConfusionMatrixDisplay(confusion_matrix=cm,display_labels=clf.classes_)\n",
    "disp.plot()"
   ]
  },
  {
   "cell_type": "markdown",
   "metadata": {},
   "source": [
    "# SVM\n",
    "accuracy obtained : 77.06%"
   ]
  },
  {
   "cell_type": "code",
   "execution_count": 23,
   "metadata": {},
   "outputs": [
    {
     "data": {
      "text/html": [
       "<style>#sk-container-id-1 {color: black;background-color: white;}#sk-container-id-1 pre{padding: 0;}#sk-container-id-1 div.sk-toggleable {background-color: white;}#sk-container-id-1 label.sk-toggleable__label {cursor: pointer;display: block;width: 100%;margin-bottom: 0;padding: 0.3em;box-sizing: border-box;text-align: center;}#sk-container-id-1 label.sk-toggleable__label-arrow:before {content: \"▸\";float: left;margin-right: 0.25em;color: #696969;}#sk-container-id-1 label.sk-toggleable__label-arrow:hover:before {color: black;}#sk-container-id-1 div.sk-estimator:hover label.sk-toggleable__label-arrow:before {color: black;}#sk-container-id-1 div.sk-toggleable__content {max-height: 0;max-width: 0;overflow: hidden;text-align: left;background-color: #f0f8ff;}#sk-container-id-1 div.sk-toggleable__content pre {margin: 0.2em;color: black;border-radius: 0.25em;background-color: #f0f8ff;}#sk-container-id-1 input.sk-toggleable__control:checked~div.sk-toggleable__content {max-height: 200px;max-width: 100%;overflow: auto;}#sk-container-id-1 input.sk-toggleable__control:checked~label.sk-toggleable__label-arrow:before {content: \"▾\";}#sk-container-id-1 div.sk-estimator input.sk-toggleable__control:checked~label.sk-toggleable__label {background-color: #d4ebff;}#sk-container-id-1 div.sk-label input.sk-toggleable__control:checked~label.sk-toggleable__label {background-color: #d4ebff;}#sk-container-id-1 input.sk-hidden--visually {border: 0;clip: rect(1px 1px 1px 1px);clip: rect(1px, 1px, 1px, 1px);height: 1px;margin: -1px;overflow: hidden;padding: 0;position: absolute;width: 1px;}#sk-container-id-1 div.sk-estimator {font-family: monospace;background-color: #f0f8ff;border: 1px dotted black;border-radius: 0.25em;box-sizing: border-box;margin-bottom: 0.5em;}#sk-container-id-1 div.sk-estimator:hover {background-color: #d4ebff;}#sk-container-id-1 div.sk-parallel-item::after {content: \"\";width: 100%;border-bottom: 1px solid gray;flex-grow: 1;}#sk-container-id-1 div.sk-label:hover label.sk-toggleable__label {background-color: #d4ebff;}#sk-container-id-1 div.sk-serial::before {content: \"\";position: absolute;border-left: 1px solid gray;box-sizing: border-box;top: 0;bottom: 0;left: 50%;z-index: 0;}#sk-container-id-1 div.sk-serial {display: flex;flex-direction: column;align-items: center;background-color: white;padding-right: 0.2em;padding-left: 0.2em;position: relative;}#sk-container-id-1 div.sk-item {position: relative;z-index: 1;}#sk-container-id-1 div.sk-parallel {display: flex;align-items: stretch;justify-content: center;background-color: white;position: relative;}#sk-container-id-1 div.sk-item::before, #sk-container-id-1 div.sk-parallel-item::before {content: \"\";position: absolute;border-left: 1px solid gray;box-sizing: border-box;top: 0;bottom: 0;left: 50%;z-index: -1;}#sk-container-id-1 div.sk-parallel-item {display: flex;flex-direction: column;z-index: 1;position: relative;background-color: white;}#sk-container-id-1 div.sk-parallel-item:first-child::after {align-self: flex-end;width: 50%;}#sk-container-id-1 div.sk-parallel-item:last-child::after {align-self: flex-start;width: 50%;}#sk-container-id-1 div.sk-parallel-item:only-child::after {width: 0;}#sk-container-id-1 div.sk-dashed-wrapped {border: 1px dashed gray;margin: 0 0.4em 0.5em 0.4em;box-sizing: border-box;padding-bottom: 0.4em;background-color: white;}#sk-container-id-1 div.sk-label label {font-family: monospace;font-weight: bold;display: inline-block;line-height: 1.2em;}#sk-container-id-1 div.sk-label-container {text-align: center;}#sk-container-id-1 div.sk-container {/* jupyter's `normalize.less` sets `[hidden] { display: none; }` but bootstrap.min.css set `[hidden] { display: none !important; }` so we also need the `!important` here to be able to override the default hidden behavior on the sphinx rendered scikit-learn.org. See: https://github.com/scikit-learn/scikit-learn/issues/21755 */display: inline-block !important;position: relative;}#sk-container-id-1 div.sk-text-repr-fallback {display: none;}</style><div id=\"sk-container-id-1\" class=\"sk-top-container\"><div class=\"sk-text-repr-fallback\"><pre>SVC(C=0.1, kernel=&#x27;linear&#x27;, random_state=1)</pre><b>In a Jupyter environment, please rerun this cell to show the HTML representation or trust the notebook. <br />On GitHub, the HTML representation is unable to render, please try loading this page with nbviewer.org.</b></div><div class=\"sk-container\" hidden><div class=\"sk-item\"><div class=\"sk-estimator sk-toggleable\"><input class=\"sk-toggleable__control sk-hidden--visually\" id=\"sk-estimator-id-1\" type=\"checkbox\" checked><label for=\"sk-estimator-id-1\" class=\"sk-toggleable__label sk-toggleable__label-arrow\">SVC</label><div class=\"sk-toggleable__content\"><pre>SVC(C=0.1, kernel=&#x27;linear&#x27;, random_state=1)</pre></div></div></div></div></div>"
      ],
      "text/plain": [
       "SVC(C=0.1, kernel='linear', random_state=1)"
      ]
     },
     "execution_count": 23,
     "metadata": {},
     "output_type": "execute_result"
    }
   ],
   "source": [
    "from sklearn.preprocessing import StandardScaler\n",
    "from sklearn.svm import SVC\n",
    "sc = StandardScaler()\n",
    "sc.fit(X_train)\n",
    "X_scaled = sc.transform(X_train)\n",
    "X_test = sc.transform(X_test)\n",
    "svm = SVC(kernel='linear',random_state=1,C=0.1)\n",
    "svm.fit(X_scaled,Y_train)"
   ]
  },
  {
   "cell_type": "code",
   "execution_count": 24,
   "metadata": {},
   "outputs": [
    {
     "name": "stdout",
     "output_type": "stream",
     "text": [
      "0.7706390328151986\n"
     ]
    }
   ],
   "source": [
    "from sklearn.metrics import accuracy_score\n",
    "y_pred = svm.predict(X_test)\n",
    "print(accuracy_score(Y_test,y_pred))"
   ]
  },
  {
   "cell_type": "code",
   "execution_count": 39,
   "metadata": {},
   "outputs": [
    {
     "name": "stdout",
     "output_type": "stream",
     "text": [
      "kernel :  linear\n",
      "score :  0.7706390328151986\n",
      "kernel :  poly\n",
      "score :  0.7706390328151986\n",
      "kernel :  rbf\n",
      "score :  0.7706390328151986\n",
      "kernel :  sigmoid\n",
      "score :  0.7492227979274612\n"
     ]
    }
   ],
   "source": [
    "kernels = ['linear','poly','rbf','sigmoid']\n",
    "temp = [i for i in range(1,11)]\n",
    "C_values = [i/10 for i in temp]\n",
    "results = {}\n",
    "for kernel_value in kernels :\n",
    "    svm = SVC(kernel=kernel_value,random_state=1,C=0.1)\n",
    "    svm.fit(X_scaled,Y_train)\n",
    "    y_pred = svm.predict(X_test)\n",
    "    score = accuracy_score(Y_test,y_pred)\n",
    "    print(\"kernel : \",kernel_value)\n",
    "    print(\"score : \",score)"
   ]
  },
  {
   "cell_type": "markdown",
   "metadata": {},
   "source": [
    "# CNN based model"
   ]
  },
  {
   "cell_type": "code",
   "execution_count": 2,
   "metadata": {},
   "outputs": [
    {
     "data": {
      "text/html": [
       "<div>\n",
       "<style scoped>\n",
       "    .dataframe tbody tr th:only-of-type {\n",
       "        vertical-align: middle;\n",
       "    }\n",
       "\n",
       "    .dataframe tbody tr th {\n",
       "        vertical-align: top;\n",
       "    }\n",
       "\n",
       "    .dataframe thead th {\n",
       "        text-align: right;\n",
       "    }\n",
       "</style>\n",
       "<table border=\"1\" class=\"dataframe\">\n",
       "  <thead>\n",
       "    <tr style=\"text-align: right;\">\n",
       "      <th></th>\n",
       "      <th>chroma_stft</th>\n",
       "      <th>rmse</th>\n",
       "      <th>spectral_centroid</th>\n",
       "      <th>spectral_bandwidth</th>\n",
       "      <th>rolloff</th>\n",
       "      <th>zero_crossing_rate</th>\n",
       "      <th>mfcc1</th>\n",
       "      <th>mfcc2</th>\n",
       "      <th>mfcc3</th>\n",
       "      <th>mfcc4</th>\n",
       "      <th>...</th>\n",
       "      <th>mfcc16</th>\n",
       "      <th>mfcc17</th>\n",
       "      <th>mfcc18</th>\n",
       "      <th>mfcc19</th>\n",
       "      <th>mfcc20</th>\n",
       "      <th>age</th>\n",
       "      <th>gender</th>\n",
       "      <th>respiratory_condition</th>\n",
       "      <th>uuid</th>\n",
       "      <th>status</th>\n",
       "    </tr>\n",
       "  </thead>\n",
       "  <tbody>\n",
       "    <tr>\n",
       "      <th>0</th>\n",
       "      <td>0.125799</td>\n",
       "      <td>0.018790</td>\n",
       "      <td>557.246888</td>\n",
       "      <td>541.449181</td>\n",
       "      <td>1236.613973</td>\n",
       "      <td>0.038685</td>\n",
       "      <td>-548.788940</td>\n",
       "      <td>23.606979</td>\n",
       "      <td>-5.905068</td>\n",
       "      <td>9.216256</td>\n",
       "      <td>...</td>\n",
       "      <td>-3.538264</td>\n",
       "      <td>1.217950</td>\n",
       "      <td>-2.029420</td>\n",
       "      <td>0.313303</td>\n",
       "      <td>-0.222275</td>\n",
       "      <td>15.0</td>\n",
       "      <td>1</td>\n",
       "      <td>0</td>\n",
       "      <td>00039425-7f3a-42aa-ac13-834aaa2b6b92</td>\n",
       "      <td>0.0</td>\n",
       "    </tr>\n",
       "    <tr>\n",
       "      <th>1</th>\n",
       "      <td>0.418816</td>\n",
       "      <td>0.001655</td>\n",
       "      <td>2932.042041</td>\n",
       "      <td>2287.258342</td>\n",
       "      <td>5392.572021</td>\n",
       "      <td>0.322187</td>\n",
       "      <td>-701.705505</td>\n",
       "      <td>63.574074</td>\n",
       "      <td>6.485498</td>\n",
       "      <td>2.101877</td>\n",
       "      <td>...</td>\n",
       "      <td>-7.062682</td>\n",
       "      <td>1.838967</td>\n",
       "      <td>-3.643120</td>\n",
       "      <td>-3.821690</td>\n",
       "      <td>-1.129711</td>\n",
       "      <td>46.0</td>\n",
       "      <td>0</td>\n",
       "      <td>0</td>\n",
       "      <td>0007c6f1-5441-40e6-9aaf-a761d8f2da3b</td>\n",
       "      <td>0.0</td>\n",
       "    </tr>\n",
       "    <tr>\n",
       "      <th>2</th>\n",
       "      <td>0.394565</td>\n",
       "      <td>0.097457</td>\n",
       "      <td>1841.552611</td>\n",
       "      <td>1863.271100</td>\n",
       "      <td>3799.444895</td>\n",
       "      <td>0.088711</td>\n",
       "      <td>-279.251099</td>\n",
       "      <td>101.417145</td>\n",
       "      <td>-26.392599</td>\n",
       "      <td>16.304626</td>\n",
       "      <td>...</td>\n",
       "      <td>-5.784528</td>\n",
       "      <td>-1.586974</td>\n",
       "      <td>-7.638764</td>\n",
       "      <td>-6.929610</td>\n",
       "      <td>-5.573641</td>\n",
       "      <td>34.0</td>\n",
       "      <td>1</td>\n",
       "      <td>1</td>\n",
       "      <td>0009eb28-d8be-4dc1-92bb-907e53bc5c7a</td>\n",
       "      <td>0.0</td>\n",
       "    </tr>\n",
       "    <tr>\n",
       "      <th>3</th>\n",
       "      <td>0.508658</td>\n",
       "      <td>0.051866</td>\n",
       "      <td>2905.802874</td>\n",
       "      <td>2060.310320</td>\n",
       "      <td>5379.263306</td>\n",
       "      <td>0.291334</td>\n",
       "      <td>-398.473663</td>\n",
       "      <td>51.205776</td>\n",
       "      <td>-56.377773</td>\n",
       "      <td>15.692808</td>\n",
       "      <td>...</td>\n",
       "      <td>-6.441534</td>\n",
       "      <td>7.364425</td>\n",
       "      <td>-4.945196</td>\n",
       "      <td>0.024016</td>\n",
       "      <td>-2.326225</td>\n",
       "      <td>21.0</td>\n",
       "      <td>1</td>\n",
       "      <td>0</td>\n",
       "      <td>001328dc-ea5d-4847-9ccf-c5aa2a3f2d0f</td>\n",
       "      <td>0.0</td>\n",
       "    </tr>\n",
       "    <tr>\n",
       "      <th>4</th>\n",
       "      <td>0.090675</td>\n",
       "      <td>0.004550</td>\n",
       "      <td>265.456102</td>\n",
       "      <td>310.753467</td>\n",
       "      <td>539.426676</td>\n",
       "      <td>0.013830</td>\n",
       "      <td>-563.476257</td>\n",
       "      <td>13.822523</td>\n",
       "      <td>0.114156</td>\n",
       "      <td>5.914953</td>\n",
       "      <td>...</td>\n",
       "      <td>-2.185372</td>\n",
       "      <td>-1.310865</td>\n",
       "      <td>-0.790942</td>\n",
       "      <td>-0.715821</td>\n",
       "      <td>-0.834619</td>\n",
       "      <td>20.0</td>\n",
       "      <td>1</td>\n",
       "      <td>1</td>\n",
       "      <td>001e2f19-d81c-4029-b33c-d2db56b23a4a</td>\n",
       "      <td>0.0</td>\n",
       "    </tr>\n",
       "    <tr>\n",
       "      <th>...</th>\n",
       "      <td>...</td>\n",
       "      <td>...</td>\n",
       "      <td>...</td>\n",
       "      <td>...</td>\n",
       "      <td>...</td>\n",
       "      <td>...</td>\n",
       "      <td>...</td>\n",
       "      <td>...</td>\n",
       "      <td>...</td>\n",
       "      <td>...</td>\n",
       "      <td>...</td>\n",
       "      <td>...</td>\n",
       "      <td>...</td>\n",
       "      <td>...</td>\n",
       "      <td>...</td>\n",
       "      <td>...</td>\n",
       "      <td>...</td>\n",
       "      <td>...</td>\n",
       "      <td>...</td>\n",
       "      <td>...</td>\n",
       "      <td>...</td>\n",
       "    </tr>\n",
       "    <tr>\n",
       "      <th>14477</th>\n",
       "      <td>0.512944</td>\n",
       "      <td>0.023030</td>\n",
       "      <td>3137.558994</td>\n",
       "      <td>2186.533578</td>\n",
       "      <td>5676.626587</td>\n",
       "      <td>0.268209</td>\n",
       "      <td>-484.073181</td>\n",
       "      <td>28.063210</td>\n",
       "      <td>-12.200029</td>\n",
       "      <td>10.437543</td>\n",
       "      <td>...</td>\n",
       "      <td>1.253925</td>\n",
       "      <td>-1.383177</td>\n",
       "      <td>0.233916</td>\n",
       "      <td>-0.477571</td>\n",
       "      <td>-2.084248</td>\n",
       "      <td>16.0</td>\n",
       "      <td>1</td>\n",
       "      <td>0</td>\n",
       "      <td>f3abf042-e22d-4e27-af5b-6650cc8f4883</td>\n",
       "      <td>0.0</td>\n",
       "    </tr>\n",
       "    <tr>\n",
       "      <th>14478</th>\n",
       "      <td>0.285275</td>\n",
       "      <td>0.010410</td>\n",
       "      <td>2098.124122</td>\n",
       "      <td>1878.304713</td>\n",
       "      <td>3930.258179</td>\n",
       "      <td>0.133199</td>\n",
       "      <td>-600.030029</td>\n",
       "      <td>63.579899</td>\n",
       "      <td>22.134485</td>\n",
       "      <td>18.594692</td>\n",
       "      <td>...</td>\n",
       "      <td>1.414832</td>\n",
       "      <td>-5.155683</td>\n",
       "      <td>-4.513929</td>\n",
       "      <td>-6.017869</td>\n",
       "      <td>-7.827081</td>\n",
       "      <td>69.0</td>\n",
       "      <td>1</td>\n",
       "      <td>0</td>\n",
       "      <td>f3ad3b65-9cec-4cc5-847f-07430a264f9d</td>\n",
       "      <td>0.0</td>\n",
       "    </tr>\n",
       "    <tr>\n",
       "      <th>14479</th>\n",
       "      <td>0.389768</td>\n",
       "      <td>0.016855</td>\n",
       "      <td>3141.166825</td>\n",
       "      <td>2614.720507</td>\n",
       "      <td>6443.711344</td>\n",
       "      <td>0.256569</td>\n",
       "      <td>-520.521912</td>\n",
       "      <td>4.831301</td>\n",
       "      <td>-3.302560</td>\n",
       "      <td>-1.760425</td>\n",
       "      <td>...</td>\n",
       "      <td>-0.769954</td>\n",
       "      <td>-1.085883</td>\n",
       "      <td>0.277529</td>\n",
       "      <td>-1.258130</td>\n",
       "      <td>1.418048</td>\n",
       "      <td>35.0</td>\n",
       "      <td>1</td>\n",
       "      <td>0</td>\n",
       "      <td>f3aebde6-d1cb-4f8e-8a9d-5f09cc160055</td>\n",
       "      <td>0.0</td>\n",
       "    </tr>\n",
       "    <tr>\n",
       "      <th>14480</th>\n",
       "      <td>0.418769</td>\n",
       "      <td>0.066166</td>\n",
       "      <td>2837.313551</td>\n",
       "      <td>1815.051664</td>\n",
       "      <td>4712.282308</td>\n",
       "      <td>0.254508</td>\n",
       "      <td>-334.125763</td>\n",
       "      <td>49.621655</td>\n",
       "      <td>-18.739819</td>\n",
       "      <td>25.851189</td>\n",
       "      <td>...</td>\n",
       "      <td>-5.658160</td>\n",
       "      <td>-1.373990</td>\n",
       "      <td>-4.224291</td>\n",
       "      <td>-3.982193</td>\n",
       "      <td>-1.760277</td>\n",
       "      <td>31.0</td>\n",
       "      <td>0</td>\n",
       "      <td>0</td>\n",
       "      <td>f3b512dd-ebb3-46f9-b418-1e4d9800bff2</td>\n",
       "      <td>0.0</td>\n",
       "    </tr>\n",
       "    <tr>\n",
       "      <th>14481</th>\n",
       "      <td>0.196956</td>\n",
       "      <td>0.000056</td>\n",
       "      <td>1059.588230</td>\n",
       "      <td>814.871904</td>\n",
       "      <td>1878.123983</td>\n",
       "      <td>0.052190</td>\n",
       "      <td>-1041.383301</td>\n",
       "      <td>18.005108</td>\n",
       "      <td>-4.002474</td>\n",
       "      <td>13.165979</td>\n",
       "      <td>...</td>\n",
       "      <td>0.403715</td>\n",
       "      <td>1.683056</td>\n",
       "      <td>0.711961</td>\n",
       "      <td>-0.988573</td>\n",
       "      <td>2.404840</td>\n",
       "      <td>52.0</td>\n",
       "      <td>0</td>\n",
       "      <td>0</td>\n",
       "      <td>f3b594a0-7bb4-46f4-8013-f377c4c21e46</td>\n",
       "      <td>0.0</td>\n",
       "    </tr>\n",
       "  </tbody>\n",
       "</table>\n",
       "<p>14482 rows × 31 columns</p>\n",
       "</div>"
      ],
      "text/plain": [
       "       chroma_stft      rmse  spectral_centroid  spectral_bandwidth  \\\n",
       "0         0.125799  0.018790         557.246888          541.449181   \n",
       "1         0.418816  0.001655        2932.042041         2287.258342   \n",
       "2         0.394565  0.097457        1841.552611         1863.271100   \n",
       "3         0.508658  0.051866        2905.802874         2060.310320   \n",
       "4         0.090675  0.004550         265.456102          310.753467   \n",
       "...            ...       ...                ...                 ...   \n",
       "14477     0.512944  0.023030        3137.558994         2186.533578   \n",
       "14478     0.285275  0.010410        2098.124122         1878.304713   \n",
       "14479     0.389768  0.016855        3141.166825         2614.720507   \n",
       "14480     0.418769  0.066166        2837.313551         1815.051664   \n",
       "14481     0.196956  0.000056        1059.588230          814.871904   \n",
       "\n",
       "           rolloff  zero_crossing_rate        mfcc1       mfcc2      mfcc3  \\\n",
       "0      1236.613973            0.038685  -548.788940   23.606979  -5.905068   \n",
       "1      5392.572021            0.322187  -701.705505   63.574074   6.485498   \n",
       "2      3799.444895            0.088711  -279.251099  101.417145 -26.392599   \n",
       "3      5379.263306            0.291334  -398.473663   51.205776 -56.377773   \n",
       "4       539.426676            0.013830  -563.476257   13.822523   0.114156   \n",
       "...            ...                 ...          ...         ...        ...   \n",
       "14477  5676.626587            0.268209  -484.073181   28.063210 -12.200029   \n",
       "14478  3930.258179            0.133199  -600.030029   63.579899  22.134485   \n",
       "14479  6443.711344            0.256569  -520.521912    4.831301  -3.302560   \n",
       "14480  4712.282308            0.254508  -334.125763   49.621655 -18.739819   \n",
       "14481  1878.123983            0.052190 -1041.383301   18.005108  -4.002474   \n",
       "\n",
       "           mfcc4  ...    mfcc16    mfcc17    mfcc18    mfcc19    mfcc20   age  \\\n",
       "0       9.216256  ... -3.538264  1.217950 -2.029420  0.313303 -0.222275  15.0   \n",
       "1       2.101877  ... -7.062682  1.838967 -3.643120 -3.821690 -1.129711  46.0   \n",
       "2      16.304626  ... -5.784528 -1.586974 -7.638764 -6.929610 -5.573641  34.0   \n",
       "3      15.692808  ... -6.441534  7.364425 -4.945196  0.024016 -2.326225  21.0   \n",
       "4       5.914953  ... -2.185372 -1.310865 -0.790942 -0.715821 -0.834619  20.0   \n",
       "...          ...  ...       ...       ...       ...       ...       ...   ...   \n",
       "14477  10.437543  ...  1.253925 -1.383177  0.233916 -0.477571 -2.084248  16.0   \n",
       "14478  18.594692  ...  1.414832 -5.155683 -4.513929 -6.017869 -7.827081  69.0   \n",
       "14479  -1.760425  ... -0.769954 -1.085883  0.277529 -1.258130  1.418048  35.0   \n",
       "14480  25.851189  ... -5.658160 -1.373990 -4.224291 -3.982193 -1.760277  31.0   \n",
       "14481  13.165979  ...  0.403715  1.683056  0.711961 -0.988573  2.404840  52.0   \n",
       "\n",
       "       gender  respiratory_condition                                  uuid  \\\n",
       "0           1                      0  00039425-7f3a-42aa-ac13-834aaa2b6b92   \n",
       "1           0                      0  0007c6f1-5441-40e6-9aaf-a761d8f2da3b   \n",
       "2           1                      1  0009eb28-d8be-4dc1-92bb-907e53bc5c7a   \n",
       "3           1                      0  001328dc-ea5d-4847-9ccf-c5aa2a3f2d0f   \n",
       "4           1                      1  001e2f19-d81c-4029-b33c-d2db56b23a4a   \n",
       "...       ...                    ...                                   ...   \n",
       "14477       1                      0  f3abf042-e22d-4e27-af5b-6650cc8f4883   \n",
       "14478       1                      0  f3ad3b65-9cec-4cc5-847f-07430a264f9d   \n",
       "14479       1                      0  f3aebde6-d1cb-4f8e-8a9d-5f09cc160055   \n",
       "14480       0                      0  f3b512dd-ebb3-46f9-b418-1e4d9800bff2   \n",
       "14481       0                      0  f3b594a0-7bb4-46f4-8013-f377c4c21e46   \n",
       "\n",
       "       status  \n",
       "0         0.0  \n",
       "1         0.0  \n",
       "2         0.0  \n",
       "3         0.0  \n",
       "4         0.0  \n",
       "...       ...  \n",
       "14477     0.0  \n",
       "14478     0.0  \n",
       "14479     0.0  \n",
       "14480     0.0  \n",
       "14481     0.0  \n",
       "\n",
       "[14482 rows x 31 columns]"
      ]
     },
     "execution_count": 2,
     "metadata": {},
     "output_type": "execute_result"
    }
   ],
   "source": [
    "import pandas as pd\n",
    "df = pd.read_csv('CSVs/unified_dataset.csv')\n",
    "df"
   ]
  },
  {
   "cell_type": "code",
   "execution_count": 5,
   "metadata": {},
   "outputs": [],
   "source": [
    "# separating the images for test set and training set\n",
    "import shutil\n",
    "files = []\n",
    "for file in os.listdir(\"spectrograms\") :\n",
    "    files.append(file.split(\".\")[0])\n",
    "for i in range(len(df)) :\n",
    "    if df['uuid'][i] in files :\n",
    "        if df['status'][i] == 0:\n",
    "            shutil.copy2(os.path.join('spectrograms/',df['uuid'][i]+\".png\"), 'CNN Model/Images/Negative')\n",
    "        else :\n",
    "            shutil.copy2(os.path.join('spectrograms/',df['uuid'][i]+\".png\"), 'CNN Model/Images/Positive')"
   ]
  },
  {
   "cell_type": "code",
   "execution_count": 2,
   "metadata": {},
   "outputs": [
    {
     "name": "stdout",
     "output_type": "stream",
     "text": [
      "Found 1790 images belonging to 2 classes.\n",
      "Found 48 images belonging to 2 classes.\n"
     ]
    }
   ],
   "source": [
    "from keras.preprocessing.image import ImageDataGenerator\n",
    "train_datagen = ImageDataGenerator(\n",
    "    rescale = 1./255\n",
    ")\n",
    "training_set = train_datagen.flow_from_directory(\n",
    "    'CNN Model/Images',\n",
    "    target_size = (64,64),\n",
    "    batch_size = 32,\n",
    "    class_mode='binary'\n",
    ")\n",
    "test_datagen = ImageDataGenerator(\n",
    "    rescale = 1./255    \n",
    ")\n",
    "test_set = test_datagen.flow_from_directory(\n",
    "    'CNN Model/test_images',\n",
    "    target_size = (64,64),\n",
    "    batch_size = 32,\n",
    "    class_mode='binary'\n",
    ")"
   ]
  },
  {
   "cell_type": "code",
   "execution_count": 3,
   "metadata": {},
   "outputs": [],
   "source": [
    "# CNN model config\n",
    "cnn = tf.keras.models.Sequential()\n",
    "cnn.add(tf.keras.layers.Conv2D(filters=32,kernel_size=3,activation='relu',input_shape=[64,64,3]))\n",
    "cnn.add(tf.keras.layers.MaxPool2D(pool_size=(2,2),strides=2))\n",
    "cnn.add(tf.keras.layers.Conv2D(filters=32,kernel_size=3,activation='relu'))\n",
    "cnn.add(tf.keras.layers.MaxPool2D(pool_size=(2,2),strides=2))\n",
    "cnn.add(tf.keras.layers.Flatten())\n",
    "cnn.add(tf.keras.layers.Dense(units=128,activation='relu'))\n",
    "cnn.add(tf.keras.layers.Dense(units=1,activation='sigmoid'))\n",
    "cnn.compile(optimizer='adam',loss='binary_crossentropy',metrics=['accuracy'])\n"
   ]
  },
  {
   "cell_type": "code",
   "execution_count": 4,
   "metadata": {},
   "outputs": [
    {
     "name": "stdout",
     "output_type": "stream",
     "text": [
      "Epoch 1/3\n"
     ]
    },
    {
     "ename": "",
     "evalue": "",
     "output_type": "error",
     "traceback": [
      "\u001b[1;31mCanceled future for execute_request message before replies were done"
     ]
    },
    {
     "ename": "",
     "evalue": "",
     "output_type": "error",
     "traceback": [
      "\u001b[1;31mThe Kernel crashed while executing code in the the current cell or a previous cell. Please review the code in the cell(s) to identify a possible cause of the failure. Click <a href='https://aka.ms/vscodeJupyterKernelCrash'>here</a> for more info. View Jupyter <a href='command:jupyter.viewOutput'>log</a> for further details."
     ]
    }
   ],
   "source": [
    "# CNN model fitting\n",
    "cnn.fit(x=training_set,validation_data=test_set,epochs=3)"
   ]
  }
 ],
 "metadata": {
  "kernelspec": {
   "display_name": "Python 3.9.13 64-bit (microsoft store)",
   "language": "python",
   "name": "python3"
  },
  "language_info": {
   "codemirror_mode": {
    "name": "ipython",
    "version": 3
   },
   "file_extension": ".py",
   "mimetype": "text/x-python",
   "name": "python",
   "nbconvert_exporter": "python",
   "pygments_lexer": "ipython3",
   "version": "3.9.13"
  },
  "orig_nbformat": 4,
  "vscode": {
   "interpreter": {
    "hash": "580c521f3659206e76d52dd2a5ff86cafca98579070e0510e4aeb8f78f9ac26e"
   }
  }
 },
 "nbformat": 4,
 "nbformat_minor": 2
}
